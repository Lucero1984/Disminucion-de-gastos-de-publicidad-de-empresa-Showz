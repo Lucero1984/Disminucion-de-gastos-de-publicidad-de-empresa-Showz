{
 "cells": [
  {
   "cell_type": "markdown",
   "metadata": {},
   "source": [
    "Hola **Lucero**!\n",
    "\n",
    "Soy **Patricio Requena** 👋. Es un placer ser el revisor de tu proyecto el día de hoy!\n",
    "\n",
    "Revisaré tu proyecto detenidamente con el objetivo de ayudarte a mejorar y perfeccionar tus habilidades. Durante mi revisión, identificaré áreas donde puedas hacer mejoras en tu código, señalando específicamente qué y cómo podrías ajustar para optimizar el rendimiento y la claridad de tu proyecto. Además, es importante para mí destacar los aspectos que has manejado excepcionalmente bien. Reconocer tus fortalezas te ayudará a entender qué técnicas y métodos están funcionando a tu favor y cómo puedes aplicarlos en futuras tareas. \n",
    "\n",
    "_**Recuerda que al final de este notebook encontrarás un comentario general de mi parte**_, empecemos!\n",
    "\n",
    "Encontrarás mis comentarios dentro de cajas verdes, amarillas o rojas, ⚠️ **por favor, no muevas, modifiques o borres mis comentarios** ⚠️:\n",
    "\n",
    "\n",
    "<div class=\"alert alert-block alert-success\">\n",
    "<b>Comentario del revisor</b> <a class=“tocSkip”></a>\n",
    "Si todo está perfecto.\n",
    "</div>\n",
    "\n",
    "<div class=\"alert alert-block alert-warning\">\n",
    "<b>Comentario del revisor</b> <a class=“tocSkip”></a>\n",
    "Si tu código está bien pero se puede mejorar o hay algún detalle que le hace falta.\n",
    "</div>\n",
    "\n",
    "<div class=\"alert alert-block alert-danger\">\n",
    "<b>Comentario del revisor</b> <a class=“tocSkip”></a>\n",
    "Si de pronto hace falta algo o existe algún problema con tu código o conclusiones.\n",
    "</div>\n",
    "\n",
    "Puedes responderme de esta forma:\n",
    "<div class=\"alert alert-block alert-info\">\n",
    "<b>Respuesta del estudiante</b> <a class=“tocSkip”></a>\n",
    "--\n",
    "</div>"
   ]
  },
  {
   "cell_type": "markdown",
   "metadata": {},
   "source": [
    "<div class=\"alert alert-block alert-danger\">\n",
    "<b>Comentario del revisor (1ra Iteracion)</b> <a class=“tocSkip”></a>\n",
    "\n",
    "Cómo Data Analyst debes cuidar siempre la presentación de tus notebook, por eso al inicio del notebook debes redactar un título general y una breve introducción en una celda tipo Markdown\n",
    "</div>"
   ]
  },
  {
   "cell_type": "markdown",
   "metadata": {},
   "source": [
    "ANALISIS DE VENTAS DE EMPRESA SHOWZ\n",
    "\n",
    "En el siguiente codigo se muestran varios analisis de las ventas y gastos en marketing de la empresa."
   ]
  },
  {
   "cell_type": "markdown",
   "metadata": {},
   "source": [
    "<div class=\"alert alert-block alert-warning\">\n",
    "<b>Comentario del revisor (2da Iteracion)</b> <a class=“tocSkip”></a>\n",
    "\n",
    "Así se entiende mejor desde un inicio, te recomendaría amplicar un poco la introducción y también para los títulos escribirlos de esta forma `# Título` para que se vean así:\n",
    "\n",
    "# Título\n",
    "</div>"
   ]
  },
  {
   "cell_type": "code",
   "execution_count": 63,
   "metadata": {},
   "outputs": [],
   "source": [
    "import pandas as pd\n",
    "from matplotlib import pyplot as plt\n",
    "import seaborn as sns\n",
    "import numpy as np\n",
    "\n",
    "visitas=pd.read_csv(\"/datasets/visits_log_us.csv\")\n",
    "pedido=pd.read_csv(\"/datasets/orders_log_us.csv\")\n",
    "costo=pd.read_csv(\"/datasets/costs_us.csv\")"
   ]
  },
  {
   "cell_type": "code",
   "execution_count": 64,
   "metadata": {},
   "outputs": [
    {
     "name": "stdout",
     "output_type": "stream",
     "text": [
      "<class 'pandas.core.frame.DataFrame'>\n",
      "RangeIndex: 2542 entries, 0 to 2541\n",
      "Data columns (total 3 columns):\n",
      " #   Column   Non-Null Count  Dtype  \n",
      "---  ------   --------------  -----  \n",
      " 0   anuncio  2542 non-null   int64  \n",
      " 1   fecha    2542 non-null   object \n",
      " 2   costo    2542 non-null   float64\n",
      "dtypes: float64(1), int64(1), object(1)\n",
      "memory usage: 59.7+ KB\n"
     ]
    }
   ],
   "source": [
    "costo.columns=['anuncio', 'fecha', 'costo']\n",
    "costo.info()"
   ]
  },
  {
   "cell_type": "code",
   "execution_count": 65,
   "metadata": {},
   "outputs": [
    {
     "name": "stdout",
     "output_type": "stream",
     "text": [
      "<class 'pandas.core.frame.DataFrame'>\n",
      "RangeIndex: 50415 entries, 0 to 50414\n",
      "Data columns (total 3 columns):\n",
      " #   Column   Non-Null Count  Dtype  \n",
      "---  ------   --------------  -----  \n",
      " 0   Buy Ts   50415 non-null  object \n",
      " 1   Revenue  50415 non-null  float64\n",
      " 2   Uid      50415 non-null  uint64 \n",
      "dtypes: float64(1), object(1), uint64(1)\n",
      "memory usage: 1.2+ MB\n"
     ]
    }
   ],
   "source": [
    "pedido.info()"
   ]
  },
  {
   "cell_type": "code",
   "execution_count": 66,
   "metadata": {},
   "outputs": [
    {
     "data": {
      "text/html": [
       "<div>\n",
       "<style scoped>\n",
       "    .dataframe tbody tr th:only-of-type {\n",
       "        vertical-align: middle;\n",
       "    }\n",
       "\n",
       "    .dataframe tbody tr th {\n",
       "        vertical-align: top;\n",
       "    }\n",
       "\n",
       "    .dataframe thead th {\n",
       "        text-align: right;\n",
       "    }\n",
       "</style>\n",
       "<table border=\"1\" class=\"dataframe\">\n",
       "  <thead>\n",
       "    <tr style=\"text-align: right;\">\n",
       "      <th></th>\n",
       "      <th>Buy Ts</th>\n",
       "      <th>Revenue</th>\n",
       "      <th>Uid</th>\n",
       "    </tr>\n",
       "  </thead>\n",
       "  <tbody>\n",
       "    <tr>\n",
       "      <th>0</th>\n",
       "      <td>2017-06-01 00:10:00</td>\n",
       "      <td>17.0</td>\n",
       "      <td>10329302124590727494</td>\n",
       "    </tr>\n",
       "  </tbody>\n",
       "</table>\n",
       "</div>"
      ],
      "text/plain": [
       "                Buy Ts  Revenue                   Uid\n",
       "0  2017-06-01 00:10:00     17.0  10329302124590727494"
      ]
     },
     "execution_count": 66,
     "metadata": {},
     "output_type": "execute_result"
    }
   ],
   "source": [
    "pedido.head(1)"
   ]
  },
  {
   "cell_type": "code",
   "execution_count": 67,
   "metadata": {},
   "outputs": [
    {
     "data": {
      "text/html": [
       "<div>\n",
       "<style scoped>\n",
       "    .dataframe tbody tr th:only-of-type {\n",
       "        vertical-align: middle;\n",
       "    }\n",
       "\n",
       "    .dataframe tbody tr th {\n",
       "        vertical-align: top;\n",
       "    }\n",
       "\n",
       "    .dataframe thead th {\n",
       "        text-align: right;\n",
       "    }\n",
       "</style>\n",
       "<table border=\"1\" class=\"dataframe\">\n",
       "  <thead>\n",
       "    <tr style=\"text-align: right;\">\n",
       "      <th></th>\n",
       "      <th>Device</th>\n",
       "      <th>End Ts</th>\n",
       "      <th>Source Id</th>\n",
       "      <th>Start Ts</th>\n",
       "      <th>Uid</th>\n",
       "    </tr>\n",
       "  </thead>\n",
       "  <tbody>\n",
       "    <tr>\n",
       "      <th>0</th>\n",
       "      <td>touch</td>\n",
       "      <td>2017-12-20 17:38:00</td>\n",
       "      <td>4</td>\n",
       "      <td>2017-12-20 17:20:00</td>\n",
       "      <td>16879256277535980062</td>\n",
       "    </tr>\n",
       "  </tbody>\n",
       "</table>\n",
       "</div>"
      ],
      "text/plain": [
       "  Device               End Ts  Source Id             Start Ts  \\\n",
       "0  touch  2017-12-20 17:38:00          4  2017-12-20 17:20:00   \n",
       "\n",
       "                    Uid  \n",
       "0  16879256277535980062  "
      ]
     },
     "execution_count": 67,
     "metadata": {},
     "output_type": "execute_result"
    }
   ],
   "source": [
    "visitas.head(1)"
   ]
  },
  {
   "cell_type": "code",
   "execution_count": 68,
   "metadata": {
    "scrolled": true
   },
   "outputs": [
    {
     "name": "stdout",
     "output_type": "stream",
     "text": [
      "<class 'pandas.core.frame.DataFrame'>\n",
      "RangeIndex: 359400 entries, 0 to 359399\n",
      "Data columns (total 5 columns):\n",
      " #   Column     Non-Null Count   Dtype \n",
      "---  ------     --------------   ----- \n",
      " 0   Device     359400 non-null  object\n",
      " 1   End Ts     359400 non-null  object\n",
      " 2   Source Id  359400 non-null  int64 \n",
      " 3   Start Ts   359400 non-null  object\n",
      " 4   Uid        359400 non-null  uint64\n",
      "dtypes: int64(1), object(3), uint64(1)\n",
      "memory usage: 13.7+ MB\n"
     ]
    }
   ],
   "source": [
    "visitas.info()\n",
    "visitas.columns=['aparato', 'fecha_fin', 'id_anuncio', 'fecha_inicio', 'uid'] "
   ]
  },
  {
   "cell_type": "code",
   "execution_count": 69,
   "metadata": {},
   "outputs": [
    {
     "data": {
      "text/html": [
       "<div>\n",
       "<style scoped>\n",
       "    .dataframe tbody tr th:only-of-type {\n",
       "        vertical-align: middle;\n",
       "    }\n",
       "\n",
       "    .dataframe tbody tr th {\n",
       "        vertical-align: top;\n",
       "    }\n",
       "\n",
       "    .dataframe thead th {\n",
       "        text-align: right;\n",
       "    }\n",
       "</style>\n",
       "<table border=\"1\" class=\"dataframe\">\n",
       "  <thead>\n",
       "    <tr style=\"text-align: right;\">\n",
       "      <th></th>\n",
       "      <th>aparato</th>\n",
       "      <th>fecha_fin</th>\n",
       "      <th>id_anuncio</th>\n",
       "      <th>fecha_inicio</th>\n",
       "      <th>uid</th>\n",
       "    </tr>\n",
       "  </thead>\n",
       "  <tbody>\n",
       "    <tr>\n",
       "      <th>0</th>\n",
       "      <td>touch</td>\n",
       "      <td>2017-12-20 17:38:00</td>\n",
       "      <td>4</td>\n",
       "      <td>2017-12-20 17:20:00</td>\n",
       "      <td>16879256277535980062</td>\n",
       "    </tr>\n",
       "  </tbody>\n",
       "</table>\n",
       "</div>"
      ],
      "text/plain": [
       "  aparato            fecha_fin  id_anuncio         fecha_inicio  \\\n",
       "0   touch  2017-12-20 17:38:00           4  2017-12-20 17:20:00   \n",
       "\n",
       "                    uid  \n",
       "0  16879256277535980062  "
      ]
     },
     "execution_count": 69,
     "metadata": {},
     "output_type": "execute_result"
    }
   ],
   "source": [
    "visitas.head(1)"
   ]
  },
  {
   "cell_type": "code",
   "execution_count": 70,
   "metadata": {},
   "outputs": [],
   "source": [
    "visitas['fecha_fin_date']=pd.to_datetime(visitas['fecha_fin'])\n",
    "visitas['fecha_inicio_date']=pd.to_datetime(visitas['fecha_inicio'])"
   ]
  },
  {
   "cell_type": "code",
   "execution_count": 71,
   "metadata": {},
   "outputs": [],
   "source": [
    "visitas['sesion_year']=visitas['fecha_inicio_date'].dt.isocalendar().year\n",
    "visitas['sesion_mes']=visitas['fecha_inicio_date'].dt.month\n",
    "visitas['sesion_semana']=visitas['fecha_inicio_date'].dt.isocalendar().week\n",
    "visitas['sesion_fecha']=visitas['fecha_inicio_date'].dt.date"
   ]
  },
  {
   "cell_type": "code",
   "execution_count": 72,
   "metadata": {},
   "outputs": [
    {
     "data": {
      "text/plain": [
       "<AxesSubplot:xlabel='sesion_fecha'>"
      ]
     },
     "execution_count": 72,
     "metadata": {},
     "output_type": "execute_result"
    },
    {
     "data": {
      "image/png": "[encoded data removed]",
      "text/plain": [
       "<Figure size 640x480 with 1 Axes>"
      ]
     },
     "metadata": {},
     "output_type": "display_data"
    }
   ],
   "source": [
    "dau=visitas.groupby('sesion_fecha').agg({'uid': 'nunique'})\n",
    "#dau:usuarios activos diarios\n",
    "dau.plot()"
   ]
  },
  {
   "cell_type": "markdown",
   "metadata": {},
   "source": [
    "En diciembre de 2017 hubo mas usuarios"
   ]
  },
  {
   "cell_type": "code",
   "execution_count": 73,
   "metadata": {},
   "outputs": [],
   "source": [
    "mau=visitas.groupby('sesion_mes').agg({'uid': 'nunique'})\n",
    "#mau:usuarios activos por mes"
   ]
  },
  {
   "cell_type": "code",
   "execution_count": 74,
   "metadata": {},
   "outputs": [
    {
     "data": {
      "text/plain": [
       "<AxesSubplot:title={'center':'Usuarios por mes'}, xlabel='mes', ylabel='usuarios'>"
      ]
     },
     "execution_count": 74,
     "metadata": {},
     "output_type": "execute_result"
    },
    {
     "data": {
      "image/png": "[encoded data removed]",
      "text/plain": [
       "<Figure size 640x480 with 1 Axes>"
      ]
     },
     "metadata": {},
     "output_type": "display_data"
    }
   ],
   "source": [
    "mau.plot(xlabel='mes', ylabel='usuarios', title='Usuarios por mes')"
   ]
  },
  {
   "cell_type": "markdown",
   "metadata": {},
   "source": [
    "En los meses 6-8 hubo menos usuarios, en los meses de diciembre y enero hubo mas usuarios."
   ]
  },
  {
   "cell_type": "code",
   "execution_count": 75,
   "metadata": {},
   "outputs": [
    {
     "data": {
      "text/plain": [
       "<AxesSubplot:xlabel='sesion_semana'>"
      ]
     },
     "execution_count": 75,
     "metadata": {},
     "output_type": "execute_result"
    },
    {
     "data": {
      "image/png": "[encoded data removed]",
      "text/plain": [
       "<Figure size 640x480 with 1 Axes>"
      ]
     },
     "metadata": {},
     "output_type": "display_data"
    }
   ],
   "source": [
    "semana_usuarios=visitas.groupby('sesion_semana').agg({'uid': 'nunique'})\n",
    "semana_usuarios.plot()"
   ]
  },
  {
   "cell_type": "markdown",
   "metadata": {},
   "source": [
    "En las sesiones por semana se observa mas variabilidad, pero igual en las semanas 20-30 hubo menos usuarios."
   ]
  },
  {
   "cell_type": "code",
   "execution_count": 76,
   "metadata": {},
   "outputs": [
    {
     "data": {
      "text/plain": [
       "<AxesSubplot:xlabel='sesion_fecha'>"
      ]
     },
     "execution_count": 76,
     "metadata": {},
     "output_type": "execute_result"
    },
    {
     "data": {
      "image/png": "[encoded data removed]",
      "text/plain": [
       "<Figure size 640x480 with 1 Axes>"
      ]
     },
     "metadata": {},
     "output_type": "display_data"
    }
   ],
   "source": [
    "sesiones_dia=visitas.groupby('sesion_fecha')['fecha_inicio'].count()\n",
    "sesiones_dia.plot()"
   ]
  },
  {
   "cell_type": "markdown",
   "metadata": {},
   "source": [
    "Hubo mas sesiones en Diciembre que en cualquier otro dia, el comportamiento es similar a la cantidad de usuarios."
   ]
  },
  {
   "cell_type": "markdown",
   "metadata": {},
   "source": [
    "<div class=\"alert alert-block alert-danger\">\n",
    "<b>Comentario del revisor (1ra Iteracion)</b> <a class=“tocSkip”></a>\n",
    "\n",
    "Estás mostrando sólo datos numéricos que para explicar será un poco más complejo. Siempre que tengas datos de tiempo trata de dejar una gráfica de líneas y no olvides redactar tus interpretaciones sobre las gráficas mostradas\n",
    "</div>"
   ]
  },
  {
   "cell_type": "markdown",
   "metadata": {},
   "source": [
    "<div class=\"alert alert-block alert-success\">\n",
    "<b>Comentario del revisor (2da Iteracion)</b> <a class=“tocSkip”></a>\n",
    "\n",
    "Muy bien! Siempre hay que buscar una forma visual de explicar los resultados\n",
    "</div>"
   ]
  },
  {
   "cell_type": "markdown",
   "metadata": {},
   "source": [
    "DURACION DE LAS SESIONES"
   ]
  },
  {
   "cell_type": "code",
   "execution_count": 77,
   "metadata": {},
   "outputs": [
    {
     "data": {
      "text/plain": [
       "0        0 days 00:18:00\n",
       "1        0 days 00:28:00\n",
       "2        0 days 00:00:00\n",
       "3        0 days 00:24:00\n",
       "4        0 days 00:00:00\n",
       "               ...      \n",
       "359395   0 days 00:00:19\n",
       "359396   0 days 00:00:19\n",
       "359397   0 days 00:00:19\n",
       "359398   0 days 00:00:19\n",
       "359399   0 days 00:00:19\n",
       "Name: duracion, Length: 359400, dtype: timedelta64[ns]"
      ]
     },
     "execution_count": 77,
     "metadata": {},
     "output_type": "execute_result"
    }
   ],
   "source": [
    "visitas['duracion']=visitas['fecha_fin_date']-visitas['fecha_inicio_date']\n",
    "visitas['duracion']"
   ]
  },
  {
   "cell_type": "markdown",
   "metadata": {},
   "source": [
    "FRECUENCA USUARIOS REGRESAN"
   ]
  },
  {
   "cell_type": "code",
   "execution_count": 78,
   "metadata": {},
   "outputs": [
    {
     "data": {
      "text/html": [
       "<div>\n",
       "<style scoped>\n",
       "    .dataframe tbody tr th:only-of-type {\n",
       "        vertical-align: middle;\n",
       "    }\n",
       "\n",
       "    .dataframe tbody tr th {\n",
       "        vertical-align: top;\n",
       "    }\n",
       "\n",
       "    .dataframe thead th {\n",
       "        text-align: right;\n",
       "    }\n",
       "</style>\n",
       "<table border=\"1\" class=\"dataframe\">\n",
       "  <thead>\n",
       "    <tr style=\"text-align: right;\">\n",
       "      <th></th>\n",
       "      <th></th>\n",
       "      <th>n_sesiones</th>\n",
       "      <th>n_usuarios</th>\n",
       "      <th>sesiones_por_usuario</th>\n",
       "    </tr>\n",
       "    <tr>\n",
       "      <th>sesion_year</th>\n",
       "      <th>sesion_mes</th>\n",
       "      <th></th>\n",
       "      <th></th>\n",
       "      <th></th>\n",
       "    </tr>\n",
       "  </thead>\n",
       "  <tbody>\n",
       "    <tr>\n",
       "      <th rowspan=\"7\" valign=\"top\">2017</th>\n",
       "      <th>6</th>\n",
       "      <td>16505</td>\n",
       "      <td>13259</td>\n",
       "      <td>1.244815</td>\n",
       "    </tr>\n",
       "    <tr>\n",
       "      <th>7</th>\n",
       "      <td>17828</td>\n",
       "      <td>14183</td>\n",
       "      <td>1.256998</td>\n",
       "    </tr>\n",
       "    <tr>\n",
       "      <th>8</th>\n",
       "      <td>14355</td>\n",
       "      <td>11631</td>\n",
       "      <td>1.234202</td>\n",
       "    </tr>\n",
       "    <tr>\n",
       "      <th>9</th>\n",
       "      <td>23907</td>\n",
       "      <td>18975</td>\n",
       "      <td>1.259921</td>\n",
       "    </tr>\n",
       "    <tr>\n",
       "      <th>10</th>\n",
       "      <td>37903</td>\n",
       "      <td>29692</td>\n",
       "      <td>1.276539</td>\n",
       "    </tr>\n",
       "    <tr>\n",
       "      <th>11</th>\n",
       "      <td>43969</td>\n",
       "      <td>32797</td>\n",
       "      <td>1.340641</td>\n",
       "    </tr>\n",
       "    <tr>\n",
       "      <th>12</th>\n",
       "      <td>41983</td>\n",
       "      <td>31557</td>\n",
       "      <td>1.330386</td>\n",
       "    </tr>\n",
       "    <tr>\n",
       "      <th rowspan=\"5\" valign=\"top\">2018</th>\n",
       "      <th>1</th>\n",
       "      <td>36939</td>\n",
       "      <td>28716</td>\n",
       "      <td>1.286356</td>\n",
       "    </tr>\n",
       "    <tr>\n",
       "      <th>2</th>\n",
       "      <td>37182</td>\n",
       "      <td>28749</td>\n",
       "      <td>1.293332</td>\n",
       "    </tr>\n",
       "    <tr>\n",
       "      <th>3</th>\n",
       "      <td>35679</td>\n",
       "      <td>27473</td>\n",
       "      <td>1.298693</td>\n",
       "    </tr>\n",
       "    <tr>\n",
       "      <th>4</th>\n",
       "      <td>26515</td>\n",
       "      <td>21008</td>\n",
       "      <td>1.262138</td>\n",
       "    </tr>\n",
       "    <tr>\n",
       "      <th>5</th>\n",
       "      <td>26635</td>\n",
       "      <td>20701</td>\n",
       "      <td>1.286653</td>\n",
       "    </tr>\n",
       "  </tbody>\n",
       "</table>\n",
       "</div>"
      ],
      "text/plain": [
       "                        n_sesiones  n_usuarios  sesiones_por_usuario\n",
       "sesion_year sesion_mes                                              \n",
       "2017        6                16505       13259              1.244815\n",
       "            7                17828       14183              1.256998\n",
       "            8                14355       11631              1.234202\n",
       "            9                23907       18975              1.259921\n",
       "            10               37903       29692              1.276539\n",
       "            11               43969       32797              1.340641\n",
       "            12               41983       31557              1.330386\n",
       "2018        1                36939       28716              1.286356\n",
       "            2                37182       28749              1.293332\n",
       "            3                35679       27473              1.298693\n",
       "            4                26515       21008              1.262138\n",
       "            5                26635       20701              1.286653"
      ]
     },
     "execution_count": 78,
     "metadata": {},
     "output_type": "execute_result"
    }
   ],
   "source": [
    "sesiones_por_usuario=visitas.groupby(['sesion_year', 'sesion_mes']).agg({'uid':['count', 'nunique']})\n",
    "sesiones_por_usuario.columns=['n_sesiones', 'n_usuarios']\n",
    "sesiones_por_usuario['sesiones_por_usuario']=(sesiones_por_usuario['n_sesiones']/sesiones_por_usuario['n_usuarios'])\n",
    "sesiones_por_usuario"
   ]
  },
  {
   "cell_type": "code",
   "execution_count": 79,
   "metadata": {},
   "outputs": [
    {
     "data": {
      "text/html": [
       "<div>\n",
       "<style scoped>\n",
       "    .dataframe tbody tr th:only-of-type {\n",
       "        vertical-align: middle;\n",
       "    }\n",
       "\n",
       "    .dataframe tbody tr th {\n",
       "        vertical-align: top;\n",
       "    }\n",
       "\n",
       "    .dataframe thead th {\n",
       "        text-align: right;\n",
       "    }\n",
       "</style>\n",
       "<table border=\"1\" class=\"dataframe\">\n",
       "  <thead>\n",
       "    <tr style=\"text-align: right;\">\n",
       "      <th></th>\n",
       "      <th>uid</th>\n",
       "      <th>fecha_primera_compra</th>\n",
       "    </tr>\n",
       "  </thead>\n",
       "  <tbody>\n",
       "    <tr>\n",
       "      <th>0</th>\n",
       "      <td>313578113262317</td>\n",
       "      <td>2018-01-03 21:51:00</td>\n",
       "    </tr>\n",
       "    <tr>\n",
       "      <th>1</th>\n",
       "      <td>1575281904278712</td>\n",
       "      <td>2017-06-03 10:13:00</td>\n",
       "    </tr>\n",
       "    <tr>\n",
       "      <th>2</th>\n",
       "      <td>2429014661409475</td>\n",
       "      <td>2017-10-11 18:33:00</td>\n",
       "    </tr>\n",
       "    <tr>\n",
       "      <th>3</th>\n",
       "      <td>2464366381792757</td>\n",
       "      <td>2018-01-28 15:54:00</td>\n",
       "    </tr>\n",
       "    <tr>\n",
       "      <th>4</th>\n",
       "      <td>2551852515556206</td>\n",
       "      <td>2017-11-24 10:14:00</td>\n",
       "    </tr>\n",
       "  </tbody>\n",
       "</table>\n",
       "</div>"
      ],
      "text/plain": [
       "                uid fecha_primera_compra\n",
       "0   313578113262317  2018-01-03 21:51:00\n",
       "1  1575281904278712  2017-06-03 10:13:00\n",
       "2  2429014661409475  2017-10-11 18:33:00\n",
       "3  2464366381792757  2018-01-28 15:54:00\n",
       "4  2551852515556206  2017-11-24 10:14:00"
      ]
     },
     "execution_count": 79,
     "metadata": {},
     "output_type": "execute_result"
    }
   ],
   "source": [
    "pedido.columns=['fecha_compra', 'ganancia', 'uid']\n",
    "pedido['fecha_compra']=pd.to_datetime(pedido['fecha_compra'])\n",
    "fecha_primera_compra_usuario=pedido.groupby('uid')['fecha_compra'].min()\n",
    "fecha_primera_compra_usuario.name='fecha_primera_compra'\n",
    "fecha_primera_compra_usuario=fecha_primera_compra_usuario.reset_index()\n",
    "fecha_primera_compra_usuario.head()"
   ]
  },
  {
   "cell_type": "code",
   "execution_count": 80,
   "metadata": {},
   "outputs": [],
   "source": [
    "fecha_registro=visitas.groupby('uid')['fecha_inicio_date'].min()\n",
    "fecha_registro.name='fecha_registro'\n",
    "fecha_registro=fecha_registro.reset_index()\n",
    "datos_fecha=fecha_primera_compra_usuario.merge(fecha_registro, on='uid')"
   ]
  },
  {
   "cell_type": "code",
   "execution_count": 81,
   "metadata": {},
   "outputs": [
    {
     "data": {
      "text/html": [
       "<div>\n",
       "<style scoped>\n",
       "    .dataframe tbody tr th:only-of-type {\n",
       "        vertical-align: middle;\n",
       "    }\n",
       "\n",
       "    .dataframe tbody tr th {\n",
       "        vertical-align: top;\n",
       "    }\n",
       "\n",
       "    .dataframe thead th {\n",
       "        text-align: right;\n",
       "    }\n",
       "</style>\n",
       "<table border=\"1\" class=\"dataframe\">\n",
       "  <thead>\n",
       "    <tr style=\"text-align: right;\">\n",
       "      <th></th>\n",
       "      <th>uid</th>\n",
       "      <th>conversion</th>\n",
       "      <th>dias</th>\n",
       "    </tr>\n",
       "  </thead>\n",
       "  <tbody>\n",
       "    <tr>\n",
       "      <th>count</th>\n",
       "      <td>3.652300e+04</td>\n",
       "      <td>36523</td>\n",
       "      <td>36523.000000</td>\n",
       "    </tr>\n",
       "    <tr>\n",
       "      <th>mean</th>\n",
       "      <td>9.213152e+18</td>\n",
       "      <td>16 days 21:40:10.550064343</td>\n",
       "      <td>16.729869</td>\n",
       "    </tr>\n",
       "    <tr>\n",
       "      <th>std</th>\n",
       "      <td>5.324792e+18</td>\n",
       "      <td>47 days 01:44:46.481416776</td>\n",
       "      <td>46.959088</td>\n",
       "    </tr>\n",
       "    <tr>\n",
       "      <th>min</th>\n",
       "      <td>3.135781e+14</td>\n",
       "      <td>0 days 00:00:00</td>\n",
       "      <td>0.000000</td>\n",
       "    </tr>\n",
       "    <tr>\n",
       "      <th>25%</th>\n",
       "      <td>4.615081e+18</td>\n",
       "      <td>0 days 00:04:00</td>\n",
       "      <td>0.000000</td>\n",
       "    </tr>\n",
       "    <tr>\n",
       "      <th>50%</th>\n",
       "      <td>9.245161e+18</td>\n",
       "      <td>0 days 00:16:00</td>\n",
       "      <td>0.000000</td>\n",
       "    </tr>\n",
       "    <tr>\n",
       "      <th>75%</th>\n",
       "      <td>1.383709e+19</td>\n",
       "      <td>2 days 00:17:00</td>\n",
       "      <td>2.000000</td>\n",
       "    </tr>\n",
       "    <tr>\n",
       "      <th>max</th>\n",
       "      <td>1.844617e+19</td>\n",
       "      <td>363 days 07:04:00</td>\n",
       "      <td>363.000000</td>\n",
       "    </tr>\n",
       "  </tbody>\n",
       "</table>\n",
       "</div>"
      ],
      "text/plain": [
       "                uid                  conversion          dias\n",
       "count  3.652300e+04                       36523  36523.000000\n",
       "mean   9.213152e+18  16 days 21:40:10.550064343     16.729869\n",
       "std    5.324792e+18  47 days 01:44:46.481416776     46.959088\n",
       "min    3.135781e+14             0 days 00:00:00      0.000000\n",
       "25%    4.615081e+18             0 days 00:04:00      0.000000\n",
       "50%    9.245161e+18             0 days 00:16:00      0.000000\n",
       "75%    1.383709e+19             2 days 00:17:00      2.000000\n",
       "max    1.844617e+19           363 days 07:04:00    363.000000"
      ]
     },
     "execution_count": 81,
     "metadata": {},
     "output_type": "execute_result"
    }
   ],
   "source": [
    "datos_fecha['conversion']=(datos_fecha['fecha_primera_compra']-datos_fecha['fecha_registro'])\n",
    "datos_fecha['dias']=datos_fecha['conversion'].apply(lambda x: int(x.total_seconds()/86400))\n",
    "datos_fecha.describe()"
   ]
  },
  {
   "cell_type": "code",
   "execution_count": 82,
   "metadata": {},
   "outputs": [
    {
     "data": {
      "text/plain": [
       "<AxesSubplot:ylabel='Frequency'>"
      ]
     },
     "execution_count": 82,
     "metadata": {},
     "output_type": "execute_result"
    },
    {
     "data": {
      "image/png": "[encoded data removed]",
      "text/plain": [
       "<Figure size 640x480 with 1 Axes>"
      ]
     },
     "metadata": {},
     "output_type": "display_data"
    }
   ],
   "source": [
    "datos_fecha['dias'].plot(kind='hist', bins=363)"
   ]
  },
  {
   "cell_type": "markdown",
   "metadata": {},
   "source": [
    "El 50% de usuarios hacen la conversion en el primer dia, el 25% lo hace en dos dias, el otro 25% tarda de 1-363 dias"
   ]
  },
  {
   "cell_type": "markdown",
   "metadata": {},
   "source": [
    "<div class=\"alert alert-block alert-danger\">\n",
    "<b>Comentario del revisor (1ra Iteracion)</b> <a class=“tocSkip”></a>\n",
    "\n",
    "Siempre que presentes una gráfica debes dejar un breve comentario con su interpretación para que el proceso de análisis sea claro\n",
    "</div>"
   ]
  },
  {
   "cell_type": "markdown",
   "metadata": {},
   "source": [
    "<div class=\"alert alert-block alert-success\">\n",
    "<b>Comentario del revisor (2da Iteracion)</b> <a class=“tocSkip”></a>\n",
    "\n",
    "Correcto, es importante dejar un proceso de análisis claro\n",
    "</div>"
   ]
  },
  {
   "cell_type": "markdown",
   "metadata": {},
   "source": [
    "CANAL MARKETING CON MAYOR NUMERO USUARIOS REGRESAN"
   ]
  },
  {
   "cell_type": "code",
   "execution_count": 83,
   "metadata": {},
   "outputs": [
    {
     "data": {
      "text/html": [
       "<div>\n",
       "<style scoped>\n",
       "    .dataframe tbody tr th:only-of-type {\n",
       "        vertical-align: middle;\n",
       "    }\n",
       "\n",
       "    .dataframe tbody tr th {\n",
       "        vertical-align: top;\n",
       "    }\n",
       "\n",
       "    .dataframe thead th {\n",
       "        text-align: right;\n",
       "    }\n",
       "</style>\n",
       "<table border=\"1\" class=\"dataframe\">\n",
       "  <thead>\n",
       "    <tr style=\"text-align: right;\">\n",
       "      <th></th>\n",
       "      <th>n_sesiones</th>\n",
       "      <th>n_usuarios</th>\n",
       "      <th>sesiones_por_usuario</th>\n",
       "    </tr>\n",
       "    <tr>\n",
       "      <th>id_anuncio</th>\n",
       "      <th></th>\n",
       "      <th></th>\n",
       "      <th></th>\n",
       "    </tr>\n",
       "  </thead>\n",
       "  <tbody>\n",
       "    <tr>\n",
       "      <th>1</th>\n",
       "      <td>34121</td>\n",
       "      <td>18999</td>\n",
       "      <td>1.795937</td>\n",
       "    </tr>\n",
       "    <tr>\n",
       "      <th>2</th>\n",
       "      <td>47626</td>\n",
       "      <td>26245</td>\n",
       "      <td>1.814669</td>\n",
       "    </tr>\n",
       "    <tr>\n",
       "      <th>3</th>\n",
       "      <td>85610</td>\n",
       "      <td>74756</td>\n",
       "      <td>1.145192</td>\n",
       "    </tr>\n",
       "    <tr>\n",
       "      <th>4</th>\n",
       "      <td>101794</td>\n",
       "      <td>83525</td>\n",
       "      <td>1.218725</td>\n",
       "    </tr>\n",
       "    <tr>\n",
       "      <th>5</th>\n",
       "      <td>66905</td>\n",
       "      <td>56974</td>\n",
       "      <td>1.174308</td>\n",
       "    </tr>\n",
       "    <tr>\n",
       "      <th>6</th>\n",
       "      <td>6</td>\n",
       "      <td>6</td>\n",
       "      <td>1.000000</td>\n",
       "    </tr>\n",
       "    <tr>\n",
       "      <th>7</th>\n",
       "      <td>36</td>\n",
       "      <td>34</td>\n",
       "      <td>1.058824</td>\n",
       "    </tr>\n",
       "    <tr>\n",
       "      <th>9</th>\n",
       "      <td>13277</td>\n",
       "      <td>9264</td>\n",
       "      <td>1.433182</td>\n",
       "    </tr>\n",
       "    <tr>\n",
       "      <th>10</th>\n",
       "      <td>10025</td>\n",
       "      <td>8067</td>\n",
       "      <td>1.242717</td>\n",
       "    </tr>\n",
       "  </tbody>\n",
       "</table>\n",
       "</div>"
      ],
      "text/plain": [
       "            n_sesiones  n_usuarios  sesiones_por_usuario\n",
       "id_anuncio                                              \n",
       "1                34121       18999              1.795937\n",
       "2                47626       26245              1.814669\n",
       "3                85610       74756              1.145192\n",
       "4               101794       83525              1.218725\n",
       "5                66905       56974              1.174308\n",
       "6                    6           6              1.000000\n",
       "7                   36          34              1.058824\n",
       "9                13277        9264              1.433182\n",
       "10               10025        8067              1.242717"
      ]
     },
     "execution_count": 83,
     "metadata": {},
     "output_type": "execute_result"
    }
   ],
   "source": [
    "anuncios=visitas.groupby(['id_anuncio']).agg({'uid':['count', 'nunique']})\n",
    "anuncios.columns=['n_sesiones', 'n_usuarios']\n",
    "anuncios['sesiones_por_usuario']=(anuncios['n_sesiones']/anuncios['n_usuarios'])\n",
    "anuncios"
   ]
  },
  {
   "cell_type": "markdown",
   "metadata": {},
   "source": [
    "El canal 2 de marketing es el que tiene el mayor numero de usuarios que regresan a visitar la pagina"
   ]
  },
  {
   "cell_type": "markdown",
   "metadata": {},
   "source": [
    "CUANTOS PEDIDOS HACEN EN UN MES"
   ]
  },
  {
   "cell_type": "code",
   "execution_count": 84,
   "metadata": {},
   "outputs": [],
   "source": [
    "pedido['mes'] = pedido['fecha_compra'].astype('datetime64[M]')"
   ]
  },
  {
   "cell_type": "code",
   "execution_count": 85,
   "metadata": {},
   "outputs": [
    {
     "data": {
      "text/plain": [
       "<AxesSubplot:title={'center':'Pedidos'}, xlabel='mes'>"
      ]
     },
     "execution_count": 85,
     "metadata": {},
     "output_type": "execute_result"
    },
    {
     "data": {
      "image/png": "[encoded data removed]",
      "text/plain": [
       "<Figure size 640x480 with 1 Axes>"
      ]
     },
     "metadata": {},
     "output_type": "display_data"
    }
   ],
   "source": [
    "pedido_mes=pedido.groupby('mes')['uid'].count()\n",
    "pedido_mes.plot(title='Pedidos')"
   ]
  },
  {
   "cell_type": "markdown",
   "metadata": {},
   "source": [
    "en diciembre hacen mas pedidos"
   ]
  },
  {
   "cell_type": "markdown",
   "metadata": {},
   "source": [
    "<div class=\"alert alert-block alert-danger\">\n",
    "<s><b>Comentario del revisor (1ra Iteracion)</b> <a class=“tocSkip”></a>\n",
    "\n",
    "Aquí también se podría complementar con una gráfica de líneas\n",
    "</div></s>"
   ]
  },
  {
   "cell_type": "markdown",
   "metadata": {},
   "source": [
    "TAMAÑO PROMEDIO COMPRA"
   ]
  },
  {
   "cell_type": "code",
   "execution_count": 86,
   "metadata": {},
   "outputs": [
    {
     "data": {
      "text/plain": [
       "4.999646930477041"
      ]
     },
     "execution_count": 86,
     "metadata": {},
     "output_type": "execute_result"
    }
   ],
   "source": [
    "promedio=pedido['ganancia'].mean()\n",
    "promedio"
   ]
  },
  {
   "cell_type": "code",
   "execution_count": 87,
   "metadata": {},
   "outputs": [],
   "source": [
    "#compra_promedio_usuario=pedido.groupby('uid')['ganancia'].mean()\n",
    "#compra_promedio_usuario"
   ]
  },
  {
   "cell_type": "markdown",
   "metadata": {},
   "source": [
    "<div class=\"alert alert-block alert-danger\">\n",
    "<b>Comentario del revisor (1ra Iteracion)</b> <a class=“tocSkip”></a>\n",
    "\n",
    "Realizar cálculos a detalle está muy bien, pero llegar a algo tan granular cómo por ID y mostrarlo sólo de esta forma no es buena práctica ya que no se puede analizar bien. Lo mejor es tener un cálculo a detalle que sea entendible, por ejemplo, puedes calcular el LTV por cohort y dejar una gráfica de barras con ese resultado, siempre redactando la interpretación de esa gráfica\n",
    "</div>"
   ]
  },
  {
   "cell_type": "markdown",
   "metadata": {},
   "source": [
    "Respuesta estudiante: esta parte la agregue abajo (grafica LTV por cohorte), pienso esto es lo que pide"
   ]
  },
  {
   "cell_type": "markdown",
   "metadata": {},
   "source": [
    "calculo de LTV"
   ]
  },
  {
   "cell_type": "code",
   "execution_count": 88,
   "metadata": {},
   "outputs": [],
   "source": [
    "costo['mes'] = costo['fecha'].astype('datetime64[M]')"
   ]
  },
  {
   "cell_type": "code",
   "execution_count": 89,
   "metadata": {},
   "outputs": [
    {
     "data": {
      "text/html": [
       "<div>\n",
       "<style scoped>\n",
       "    .dataframe tbody tr th:only-of-type {\n",
       "        vertical-align: middle;\n",
       "    }\n",
       "\n",
       "    .dataframe tbody tr th {\n",
       "        vertical-align: top;\n",
       "    }\n",
       "\n",
       "    .dataframe thead th {\n",
       "        text-align: right;\n",
       "    }\n",
       "</style>\n",
       "<table border=\"1\" class=\"dataframe\">\n",
       "  <thead>\n",
       "    <tr style=\"text-align: right;\">\n",
       "      <th></th>\n",
       "      <th>uid</th>\n",
       "      <th>primer_pedido_mes</th>\n",
       "    </tr>\n",
       "  </thead>\n",
       "  <tbody>\n",
       "    <tr>\n",
       "      <th>0</th>\n",
       "      <td>313578113262317</td>\n",
       "      <td>2018-01-01</td>\n",
       "    </tr>\n",
       "    <tr>\n",
       "      <th>1</th>\n",
       "      <td>1575281904278712</td>\n",
       "      <td>2017-06-01</td>\n",
       "    </tr>\n",
       "    <tr>\n",
       "      <th>2</th>\n",
       "      <td>2429014661409475</td>\n",
       "      <td>2017-10-01</td>\n",
       "    </tr>\n",
       "    <tr>\n",
       "      <th>3</th>\n",
       "      <td>2464366381792757</td>\n",
       "      <td>2018-01-01</td>\n",
       "    </tr>\n",
       "    <tr>\n",
       "      <th>4</th>\n",
       "      <td>2551852515556206</td>\n",
       "      <td>2017-11-01</td>\n",
       "    </tr>\n",
       "  </tbody>\n",
       "</table>\n",
       "</div>"
      ],
      "text/plain": [
       "                uid primer_pedido_mes\n",
       "0   313578113262317        2018-01-01\n",
       "1  1575281904278712        2017-06-01\n",
       "2  2429014661409475        2017-10-01\n",
       "3  2464366381792757        2018-01-01\n",
       "4  2551852515556206        2017-11-01"
      ]
     },
     "execution_count": 89,
     "metadata": {},
     "output_type": "execute_result"
    }
   ],
   "source": [
    "primer_pedido_mes = pedido.groupby('uid').agg({'mes': 'min'}).reset_index()\n",
    "primer_pedido_mes.columns = ['uid', 'primer_pedido_mes']\n",
    "primer_pedido_mes.head()"
   ]
  },
  {
   "cell_type": "code",
   "execution_count": 90,
   "metadata": {},
   "outputs": [
    {
     "data": {
      "text/html": [
       "<div>\n",
       "<style scoped>\n",
       "    .dataframe tbody tr th:only-of-type {\n",
       "        vertical-align: middle;\n",
       "    }\n",
       "\n",
       "    .dataframe tbody tr th {\n",
       "        vertical-align: top;\n",
       "    }\n",
       "\n",
       "    .dataframe thead th {\n",
       "        text-align: right;\n",
       "    }\n",
       "</style>\n",
       "<table border=\"1\" class=\"dataframe\">\n",
       "  <thead>\n",
       "    <tr style=\"text-align: right;\">\n",
       "      <th></th>\n",
       "      <th>primer_pedido_mes</th>\n",
       "      <th>n_compradores</th>\n",
       "    </tr>\n",
       "  </thead>\n",
       "  <tbody>\n",
       "    <tr>\n",
       "      <th>0</th>\n",
       "      <td>2017-06-01</td>\n",
       "      <td>2023</td>\n",
       "    </tr>\n",
       "    <tr>\n",
       "      <th>1</th>\n",
       "      <td>2017-07-01</td>\n",
       "      <td>1923</td>\n",
       "    </tr>\n",
       "  </tbody>\n",
       "</table>\n",
       "</div>"
      ],
      "text/plain": [
       "  primer_pedido_mes  n_compradores\n",
       "0        2017-06-01           2023\n",
       "1        2017-07-01           1923"
      ]
     },
     "execution_count": 90,
     "metadata": {},
     "output_type": "execute_result"
    }
   ],
   "source": [
    "cohorte = primer_pedido_mes.groupby('primer_pedido_mes').agg({'uid': 'nunique'}).reset_index()\n",
    "cohorte.columns = ['primer_pedido_mes', 'n_compradores']\n",
    "cohorte.head(2)"
   ]
  },
  {
   "cell_type": "code",
   "execution_count": 91,
   "metadata": {},
   "outputs": [
    {
     "name": "stdout",
     "output_type": "stream",
     "text": [
      "<class 'pandas.core.frame.DataFrame'>\n",
      "Int64Index: 50415 entries, 0 to 50414\n",
      "Data columns (total 5 columns):\n",
      " #   Column             Non-Null Count  Dtype         \n",
      "---  ------             --------------  -----         \n",
      " 0   fecha_compra       50415 non-null  datetime64[ns]\n",
      " 1   ganancia           50415 non-null  float64       \n",
      " 2   uid                50415 non-null  uint64        \n",
      " 3   mes                50415 non-null  datetime64[ns]\n",
      " 4   primer_pedido_mes  50415 non-null  datetime64[ns]\n",
      "dtypes: datetime64[ns](3), float64(1), uint64(1)\n",
      "memory usage: 2.3 MB\n"
     ]
    }
   ],
   "source": [
    "pedido_completo=pd.merge(pedido, primer_pedido_mes, on='uid')\n",
    "pedido_completo.info()"
   ]
  },
  {
   "cell_type": "code",
   "execution_count": 92,
   "metadata": {},
   "outputs": [
    {
     "data": {
      "text/html": [
       "<div>\n",
       "<style scoped>\n",
       "    .dataframe tbody tr th:only-of-type {\n",
       "        vertical-align: middle;\n",
       "    }\n",
       "\n",
       "    .dataframe tbody tr th {\n",
       "        vertical-align: top;\n",
       "    }\n",
       "\n",
       "    .dataframe thead th {\n",
       "        text-align: right;\n",
       "    }\n",
       "</style>\n",
       "<table border=\"1\" class=\"dataframe\">\n",
       "  <thead>\n",
       "    <tr style=\"text-align: right;\">\n",
       "      <th></th>\n",
       "      <th>primer_pedido_mes</th>\n",
       "      <th>mes</th>\n",
       "      <th>ganancia</th>\n",
       "    </tr>\n",
       "  </thead>\n",
       "  <tbody>\n",
       "    <tr>\n",
       "      <th>0</th>\n",
       "      <td>2017-06-01</td>\n",
       "      <td>2017-06-01</td>\n",
       "      <td>9557.49</td>\n",
       "    </tr>\n",
       "    <tr>\n",
       "      <th>1</th>\n",
       "      <td>2017-06-01</td>\n",
       "      <td>2017-07-01</td>\n",
       "      <td>981.82</td>\n",
       "    </tr>\n",
       "    <tr>\n",
       "      <th>2</th>\n",
       "      <td>2017-06-01</td>\n",
       "      <td>2017-08-01</td>\n",
       "      <td>885.34</td>\n",
       "    </tr>\n",
       "  </tbody>\n",
       "</table>\n",
       "</div>"
      ],
      "text/plain": [
       "  primer_pedido_mes        mes  ganancia\n",
       "0        2017-06-01 2017-06-01   9557.49\n",
       "1        2017-06-01 2017-07-01    981.82\n",
       "2        2017-06-01 2017-08-01    885.34"
      ]
     },
     "execution_count": 92,
     "metadata": {},
     "output_type": "execute_result"
    }
   ],
   "source": [
    "cohorte_mes=pedido_completo.groupby(['primer_pedido_mes', 'mes']).agg({'ganancia':'sum'}).reset_index()\n",
    "cohorte_mes.head(3)"
   ]
  },
  {
   "cell_type": "code",
   "execution_count": 93,
   "metadata": {},
   "outputs": [
    {
     "data": {
      "text/html": [
       "<div>\n",
       "<style scoped>\n",
       "    .dataframe tbody tr th:only-of-type {\n",
       "        vertical-align: middle;\n",
       "    }\n",
       "\n",
       "    .dataframe tbody tr th {\n",
       "        vertical-align: top;\n",
       "    }\n",
       "\n",
       "    .dataframe thead th {\n",
       "        text-align: right;\n",
       "    }\n",
       "</style>\n",
       "<table border=\"1\" class=\"dataframe\">\n",
       "  <thead>\n",
       "    <tr style=\"text-align: right;\">\n",
       "      <th></th>\n",
       "      <th>primer_pedido_mes</th>\n",
       "      <th>n_compradores</th>\n",
       "      <th>mes</th>\n",
       "      <th>ganancia</th>\n",
       "    </tr>\n",
       "  </thead>\n",
       "  <tbody>\n",
       "    <tr>\n",
       "      <th>0</th>\n",
       "      <td>2017-06-01</td>\n",
       "      <td>2023</td>\n",
       "      <td>2017-06-01</td>\n",
       "      <td>9557.49</td>\n",
       "    </tr>\n",
       "  </tbody>\n",
       "</table>\n",
       "</div>"
      ],
      "text/plain": [
       "  primer_pedido_mes  n_compradores        mes  ganancia\n",
       "0        2017-06-01           2023 2017-06-01   9557.49"
      ]
     },
     "execution_count": 93,
     "metadata": {},
     "output_type": "execute_result"
    }
   ],
   "source": [
    "reporte=pd.merge(cohorte, cohorte_mes, on='primer_pedido_mes')\n",
    "reporte.head(1)"
   ]
  },
  {
   "cell_type": "code",
   "execution_count": 94,
   "metadata": {},
   "outputs": [],
   "source": [
    "taza_margen=.5\n",
    "reporte['gp']=reporte['ganancia']*taza_margen\n",
    "reporte['edad']=(reporte['mes']-reporte['primer_pedido_mes'])/np.timedelta64(1, 'M')\n",
    "reporte['edad']=reporte['edad'].round().astype('int')"
   ]
  },
  {
   "cell_type": "code",
   "execution_count": 95,
   "metadata": {},
   "outputs": [
    {
     "data": {
      "text/html": [
       "<div>\n",
       "<style scoped>\n",
       "    .dataframe tbody tr th:only-of-type {\n",
       "        vertical-align: middle;\n",
       "    }\n",
       "\n",
       "    .dataframe tbody tr th {\n",
       "        vertical-align: top;\n",
       "    }\n",
       "\n",
       "    .dataframe thead th {\n",
       "        text-align: right;\n",
       "    }\n",
       "</style>\n",
       "<table border=\"1\" class=\"dataframe\">\n",
       "  <thead>\n",
       "    <tr style=\"text-align: right;\">\n",
       "      <th></th>\n",
       "      <th>primer_pedido_mes</th>\n",
       "      <th>n_compradores</th>\n",
       "      <th>mes</th>\n",
       "      <th>ganancia</th>\n",
       "      <th>gp</th>\n",
       "      <th>edad</th>\n",
       "    </tr>\n",
       "  </thead>\n",
       "  <tbody>\n",
       "    <tr>\n",
       "      <th>0</th>\n",
       "      <td>2017-06-01</td>\n",
       "      <td>2023</td>\n",
       "      <td>2017-06-01</td>\n",
       "      <td>9557.49</td>\n",
       "      <td>4778.745</td>\n",
       "      <td>0</td>\n",
       "    </tr>\n",
       "  </tbody>\n",
       "</table>\n",
       "</div>"
      ],
      "text/plain": [
       "  primer_pedido_mes  n_compradores        mes  ganancia        gp  edad\n",
       "0        2017-06-01           2023 2017-06-01   9557.49  4778.745     0"
      ]
     },
     "execution_count": 95,
     "metadata": {},
     "output_type": "execute_result"
    }
   ],
   "source": [
    "reporte.head(1)"
   ]
  },
  {
   "cell_type": "code",
   "execution_count": 96,
   "metadata": {
    "scrolled": true
   },
   "outputs": [
    {
     "data": {
      "text/html": [
       "<div>\n",
       "<style scoped>\n",
       "    .dataframe tbody tr th:only-of-type {\n",
       "        vertical-align: middle;\n",
       "    }\n",
       "\n",
       "    .dataframe tbody tr th {\n",
       "        vertical-align: top;\n",
       "    }\n",
       "\n",
       "    .dataframe thead th {\n",
       "        text-align: right;\n",
       "    }\n",
       "</style>\n",
       "<table border=\"1\" class=\"dataframe\">\n",
       "  <thead>\n",
       "    <tr style=\"text-align: right;\">\n",
       "      <th></th>\n",
       "      <th>primer_pedido_mes</th>\n",
       "      <th>n_compradores</th>\n",
       "      <th>mes</th>\n",
       "      <th>ganancia</th>\n",
       "      <th>gp</th>\n",
       "      <th>edad</th>\n",
       "      <th>ltv</th>\n",
       "    </tr>\n",
       "  </thead>\n",
       "  <tbody>\n",
       "    <tr>\n",
       "      <th>0</th>\n",
       "      <td>2017-06-01</td>\n",
       "      <td>2023</td>\n",
       "      <td>2017-06-01</td>\n",
       "      <td>9557.49</td>\n",
       "      <td>4778.745</td>\n",
       "      <td>0</td>\n",
       "      <td>2.362207</td>\n",
       "    </tr>\n",
       "    <tr>\n",
       "      <th>1</th>\n",
       "      <td>2017-06-01</td>\n",
       "      <td>2023</td>\n",
       "      <td>2017-07-01</td>\n",
       "      <td>981.82</td>\n",
       "      <td>490.910</td>\n",
       "      <td>1</td>\n",
       "      <td>0.242664</td>\n",
       "    </tr>\n",
       "  </tbody>\n",
       "</table>\n",
       "</div>"
      ],
      "text/plain": [
       "  primer_pedido_mes  n_compradores        mes  ganancia        gp  edad  \\\n",
       "0        2017-06-01           2023 2017-06-01   9557.49  4778.745     0   \n",
       "1        2017-06-01           2023 2017-07-01    981.82   490.910     1   \n",
       "\n",
       "        ltv  \n",
       "0  2.362207  \n",
       "1  0.242664  "
      ]
     },
     "execution_count": 96,
     "metadata": {},
     "output_type": "execute_result"
    }
   ],
   "source": [
    "reporte['ltv']=reporte['gp']/reporte['n_compradores']\n",
    "reporte.head(2)"
   ]
  },
  {
   "cell_type": "code",
   "execution_count": 97,
   "metadata": {},
   "outputs": [
    {
     "data": {
      "text/plain": [
       "<AxesSubplot:title={'center':'LTV por cohorte'}, xlabel='cohorte por mes de primer pedido', ylabel='LTV promedio'>"
      ]
     },
     "execution_count": 97,
     "metadata": {},
     "output_type": "execute_result"
    },
    {
     "data": {
      "image/png": "[encoded data removed]",
      "text/plain": [
       "<Figure size 640x480 with 1 Axes>"
      ]
     },
     "metadata": {},
     "output_type": "display_data"
    }
   ],
   "source": [
    "ltv_tabla=reporte.groupby('primer_pedido_mes')['ltv'].mean()\n",
    "ltv_tabla.plot(kind='bar', title='LTV por cohorte', ylabel='LTV promedio', xlabel='cohorte por mes de primer pedido')"
   ]
  },
  {
   "cell_type": "markdown",
   "metadata": {},
   "source": [
    "La cohorte del mes de Mayo es la que presenta el LTV promedio mas alto"
   ]
  },
  {
   "cell_type": "markdown",
   "metadata": {},
   "source": [
    "<div class=\"alert alert-block alert-warning\">\n",
    "<b>Comentario del revisor (2da Iteracion)</b> <a class=“tocSkip”></a>\n",
    "\n",
    "Así está muy bien Lucero! Aunque para mejorar la visualización te recomiendo remover la precisión de tiempo en horas, minutos y segundos y dejar sólo la fecha\n",
    "</div>"
   ]
  },
  {
   "cell_type": "code",
   "execution_count": 98,
   "metadata": {
    "scrolled": true
   },
   "outputs": [
    {
     "data": {
      "text/html": [
       "<div>\n",
       "<style scoped>\n",
       "    .dataframe tbody tr th:only-of-type {\n",
       "        vertical-align: middle;\n",
       "    }\n",
       "\n",
       "    .dataframe tbody tr th {\n",
       "        vertical-align: top;\n",
       "    }\n",
       "\n",
       "    .dataframe thead th {\n",
       "        text-align: right;\n",
       "    }\n",
       "</style>\n",
       "<table border=\"1\" class=\"dataframe\">\n",
       "  <thead>\n",
       "    <tr style=\"text-align: right;\">\n",
       "      <th>edad</th>\n",
       "      <th>0</th>\n",
       "      <th>1</th>\n",
       "      <th>2</th>\n",
       "      <th>3</th>\n",
       "      <th>4</th>\n",
       "      <th>5</th>\n",
       "      <th>6</th>\n",
       "      <th>7</th>\n",
       "      <th>8</th>\n",
       "      <th>9</th>\n",
       "      <th>10</th>\n",
       "      <th>11</th>\n",
       "    </tr>\n",
       "    <tr>\n",
       "      <th>primer_pedido_mes</th>\n",
       "      <th></th>\n",
       "      <th></th>\n",
       "      <th></th>\n",
       "      <th></th>\n",
       "      <th></th>\n",
       "      <th></th>\n",
       "      <th></th>\n",
       "      <th></th>\n",
       "      <th></th>\n",
       "      <th></th>\n",
       "      <th></th>\n",
       "      <th></th>\n",
       "    </tr>\n",
       "  </thead>\n",
       "  <tbody>\n",
       "    <tr>\n",
       "      <th>2017-06-01</th>\n",
       "      <td>2.0</td>\n",
       "      <td>0.0</td>\n",
       "      <td>0.0</td>\n",
       "      <td>0.0</td>\n",
       "      <td>1.0</td>\n",
       "      <td>0.0</td>\n",
       "      <td>0.0</td>\n",
       "      <td>0.0</td>\n",
       "      <td>0.0</td>\n",
       "      <td>0.0</td>\n",
       "      <td>0.0</td>\n",
       "      <td>0.0</td>\n",
       "    </tr>\n",
       "    <tr>\n",
       "      <th>2017-07-01</th>\n",
       "      <td>3.0</td>\n",
       "      <td>0.0</td>\n",
       "      <td>0.0</td>\n",
       "      <td>0.0</td>\n",
       "      <td>0.0</td>\n",
       "      <td>0.0</td>\n",
       "      <td>0.0</td>\n",
       "      <td>0.0</td>\n",
       "      <td>0.0</td>\n",
       "      <td>0.0</td>\n",
       "      <td>0.0</td>\n",
       "      <td></td>\n",
       "    </tr>\n",
       "    <tr>\n",
       "      <th>2017-08-01</th>\n",
       "      <td>3.0</td>\n",
       "      <td>0.0</td>\n",
       "      <td>0.0</td>\n",
       "      <td>0.0</td>\n",
       "      <td>0.0</td>\n",
       "      <td>0.0</td>\n",
       "      <td>0.0</td>\n",
       "      <td>0.0</td>\n",
       "      <td>0.0</td>\n",
       "      <td>0.0</td>\n",
       "      <td></td>\n",
       "      <td></td>\n",
       "    </tr>\n",
       "    <tr>\n",
       "      <th>2017-09-01</th>\n",
       "      <td>3.0</td>\n",
       "      <td>1.0</td>\n",
       "      <td>0.0</td>\n",
       "      <td>2.0</td>\n",
       "      <td>0.0</td>\n",
       "      <td>0.0</td>\n",
       "      <td>0.0</td>\n",
       "      <td>0.0</td>\n",
       "      <td>0.0</td>\n",
       "      <td></td>\n",
       "      <td></td>\n",
       "      <td></td>\n",
       "    </tr>\n",
       "    <tr>\n",
       "      <th>2017-10-01</th>\n",
       "      <td>3.0</td>\n",
       "      <td>0.0</td>\n",
       "      <td>0.0</td>\n",
       "      <td>0.0</td>\n",
       "      <td>0.0</td>\n",
       "      <td>0.0</td>\n",
       "      <td>0.0</td>\n",
       "      <td>0.0</td>\n",
       "      <td></td>\n",
       "      <td></td>\n",
       "      <td></td>\n",
       "      <td></td>\n",
       "    </tr>\n",
       "    <tr>\n",
       "      <th>2017-11-01</th>\n",
       "      <td>3.0</td>\n",
       "      <td>0.0</td>\n",
       "      <td>0.0</td>\n",
       "      <td>0.0</td>\n",
       "      <td>0.0</td>\n",
       "      <td>0.0</td>\n",
       "      <td>0.0</td>\n",
       "      <td></td>\n",
       "      <td></td>\n",
       "      <td></td>\n",
       "      <td></td>\n",
       "      <td></td>\n",
       "    </tr>\n",
       "    <tr>\n",
       "      <th>2017-12-01</th>\n",
       "      <td>2.0</td>\n",
       "      <td>0.0</td>\n",
       "      <td>0.0</td>\n",
       "      <td>1.0</td>\n",
       "      <td>0.0</td>\n",
       "      <td>0.0</td>\n",
       "      <td></td>\n",
       "      <td></td>\n",
       "      <td></td>\n",
       "      <td></td>\n",
       "      <td></td>\n",
       "      <td></td>\n",
       "    </tr>\n",
       "    <tr>\n",
       "      <th>2018-01-01</th>\n",
       "      <td>2.0</td>\n",
       "      <td>0.0</td>\n",
       "      <td>0.0</td>\n",
       "      <td>0.0</td>\n",
       "      <td>0.0</td>\n",
       "      <td></td>\n",
       "      <td></td>\n",
       "      <td></td>\n",
       "      <td></td>\n",
       "      <td></td>\n",
       "      <td></td>\n",
       "      <td></td>\n",
       "    </tr>\n",
       "    <tr>\n",
       "      <th>2018-02-01</th>\n",
       "      <td>2.0</td>\n",
       "      <td>0.0</td>\n",
       "      <td>0.0</td>\n",
       "      <td>0.0</td>\n",
       "      <td></td>\n",
       "      <td></td>\n",
       "      <td></td>\n",
       "      <td></td>\n",
       "      <td></td>\n",
       "      <td></td>\n",
       "      <td></td>\n",
       "      <td></td>\n",
       "    </tr>\n",
       "    <tr>\n",
       "      <th>2018-03-01</th>\n",
       "      <td>2.0</td>\n",
       "      <td>0.0</td>\n",
       "      <td>0.0</td>\n",
       "      <td></td>\n",
       "      <td></td>\n",
       "      <td></td>\n",
       "      <td></td>\n",
       "      <td></td>\n",
       "      <td></td>\n",
       "      <td></td>\n",
       "      <td></td>\n",
       "      <td></td>\n",
       "    </tr>\n",
       "    <tr>\n",
       "      <th>2018-04-01</th>\n",
       "      <td>2.0</td>\n",
       "      <td>0.0</td>\n",
       "      <td></td>\n",
       "      <td></td>\n",
       "      <td></td>\n",
       "      <td></td>\n",
       "      <td></td>\n",
       "      <td></td>\n",
       "      <td></td>\n",
       "      <td></td>\n",
       "      <td></td>\n",
       "      <td></td>\n",
       "    </tr>\n",
       "    <tr>\n",
       "      <th>2018-05-01</th>\n",
       "      <td>2.0</td>\n",
       "      <td></td>\n",
       "      <td></td>\n",
       "      <td></td>\n",
       "      <td></td>\n",
       "      <td></td>\n",
       "      <td></td>\n",
       "      <td></td>\n",
       "      <td></td>\n",
       "      <td></td>\n",
       "      <td></td>\n",
       "      <td></td>\n",
       "    </tr>\n",
       "    <tr>\n",
       "      <th>2018-06-01</th>\n",
       "      <td>2.0</td>\n",
       "      <td></td>\n",
       "      <td></td>\n",
       "      <td></td>\n",
       "      <td></td>\n",
       "      <td></td>\n",
       "      <td></td>\n",
       "      <td></td>\n",
       "      <td></td>\n",
       "      <td></td>\n",
       "      <td></td>\n",
       "      <td></td>\n",
       "    </tr>\n",
       "  </tbody>\n",
       "</table>\n",
       "</div>"
      ],
      "text/plain": [
       "edad                0    1    2    3    4    5    6    7    8    9    10   11\n",
       "primer_pedido_mes                                                            \n",
       "2017-06-01         2.0  0.0  0.0  0.0  1.0  0.0  0.0  0.0  0.0  0.0  0.0  0.0\n",
       "2017-07-01         3.0  0.0  0.0  0.0  0.0  0.0  0.0  0.0  0.0  0.0  0.0     \n",
       "2017-08-01         3.0  0.0  0.0  0.0  0.0  0.0  0.0  0.0  0.0  0.0          \n",
       "2017-09-01         3.0  1.0  0.0  2.0  0.0  0.0  0.0  0.0  0.0               \n",
       "2017-10-01         3.0  0.0  0.0  0.0  0.0  0.0  0.0  0.0                    \n",
       "2017-11-01         3.0  0.0  0.0  0.0  0.0  0.0  0.0                         \n",
       "2017-12-01         2.0  0.0  0.0  1.0  0.0  0.0                              \n",
       "2018-01-01         2.0  0.0  0.0  0.0  0.0                                   \n",
       "2018-02-01         2.0  0.0  0.0  0.0                                        \n",
       "2018-03-01         2.0  0.0  0.0                                             \n",
       "2018-04-01         2.0  0.0                                                  \n",
       "2018-05-01         2.0                                                       \n",
       "2018-06-01         2.0                                                       "
      ]
     },
     "execution_count": 98,
     "metadata": {},
     "output_type": "execute_result"
    }
   ],
   "source": [
    "output=reporte.pivot_table(index='primer_pedido_mes', \n",
    "    columns='edad', \n",
    "    values='ltv', \n",
    "    aggfunc='mean').round()\n",
    "\n",
    "output.fillna('')"
   ]
  },
  {
   "cell_type": "markdown",
   "metadata": {},
   "source": [
    "COSTO TOTAL POR FUENTE DE ANUNCIO"
   ]
  },
  {
   "cell_type": "code",
   "execution_count": 99,
   "metadata": {},
   "outputs": [
    {
     "data": {
      "text/plain": [
       "anuncio\n",
       "1      20833.27\n",
       "2      42806.04\n",
       "3     141321.63\n",
       "4      61073.60\n",
       "5      51757.10\n",
       "9       5517.49\n",
       "10      5822.49\n",
       "Name: costo, dtype: float64"
      ]
     },
     "execution_count": 99,
     "metadata": {},
     "output_type": "execute_result"
    }
   ],
   "source": [
    "costo_anuncio=costo.groupby(['anuncio'])['costo'].sum()\n",
    "costo_anuncio.head(10)"
   ]
  },
  {
   "cell_type": "code",
   "execution_count": 100,
   "metadata": {},
   "outputs": [
    {
     "data": {
      "text/plain": [
       "3.0"
      ]
     },
     "execution_count": 100,
     "metadata": {},
     "output_type": "execute_result"
    }
   ],
   "source": [
    "ltv_201706 = output.loc['2017-06-01'].sum()\n",
    "ltv_201706"
   ]
  },
  {
   "cell_type": "code",
   "execution_count": 101,
   "metadata": {},
   "outputs": [
    {
     "name": "stdout",
     "output_type": "stream",
     "text": [
      "CAC = 8.905091448344043\n",
      "LTV = 3.0\n"
     ]
    }
   ],
   "source": [
    "cohort_201706 = reporte[reporte['primer_pedido_mes'] == '2017-06-01']\n",
    "\n",
    "# calcular los costos para el mes de la cohorte\n",
    "costo_201706 = costo[costo['mes'] == '2017-06-01']['costo'].sum()\n",
    "\n",
    "n_compradores_201706 = cohort_201706['n_compradores'][0]\n",
    "cac_201706 = costo_201706 / n_compradores_201706\n",
    "ltv_201706   = output.loc['2017-06-01'].sum()\n",
    "\n",
    "print('CAC =', cac_201706)\n",
    "print('LTV =', ltv_201706)"
   ]
  },
  {
   "cell_type": "code",
   "execution_count": 102,
   "metadata": {},
   "outputs": [
    {
     "data": {
      "text/plain": [
       "mes\n",
       "2017-06-01    18015.00\n",
       "2017-07-01    18240.59\n",
       "2017-08-01    14790.54\n",
       "2017-09-01    24368.91\n",
       "2017-10-01    36322.88\n",
       "Name: costo, dtype: float64"
      ]
     },
     "execution_count": 102,
     "metadata": {},
     "output_type": "execute_result"
    }
   ],
   "source": [
    "costo_mensual = costo.groupby('mes')['costo'].sum()\n",
    "costo_mensual.head()"
   ]
  },
  {
   "cell_type": "code",
   "execution_count": 103,
   "metadata": {
    "scrolled": true
   },
   "outputs": [
    {
     "data": {
      "text/html": [
       "<div>\n",
       "<style scoped>\n",
       "    .dataframe tbody tr th:only-of-type {\n",
       "        vertical-align: middle;\n",
       "    }\n",
       "\n",
       "    .dataframe tbody tr th {\n",
       "        vertical-align: top;\n",
       "    }\n",
       "\n",
       "    .dataframe thead th {\n",
       "        text-align: right;\n",
       "    }\n",
       "</style>\n",
       "<table border=\"1\" class=\"dataframe\">\n",
       "  <thead>\n",
       "    <tr style=\"text-align: right;\">\n",
       "      <th></th>\n",
       "      <th>primer_pedido_mes</th>\n",
       "      <th>n_compradores</th>\n",
       "      <th>mes</th>\n",
       "      <th>ganancia</th>\n",
       "      <th>gp</th>\n",
       "      <th>edad</th>\n",
       "      <th>ltv</th>\n",
       "      <th>costo</th>\n",
       "      <th>cac</th>\n",
       "    </tr>\n",
       "  </thead>\n",
       "  <tbody>\n",
       "    <tr>\n",
       "      <th>0</th>\n",
       "      <td>2017-06-01</td>\n",
       "      <td>2023</td>\n",
       "      <td>2017-06-01</td>\n",
       "      <td>9557.49</td>\n",
       "      <td>4778.745</td>\n",
       "      <td>0</td>\n",
       "      <td>2.362207</td>\n",
       "      <td>18015.0</td>\n",
       "      <td>8.905091</td>\n",
       "    </tr>\n",
       "  </tbody>\n",
       "</table>\n",
       "</div>"
      ],
      "text/plain": [
       "  primer_pedido_mes  n_compradores        mes  ganancia        gp  edad  \\\n",
       "0        2017-06-01           2023 2017-06-01   9557.49  4778.745     0   \n",
       "\n",
       "        ltv    costo       cac  \n",
       "0  2.362207  18015.0  8.905091  "
      ]
     },
     "execution_count": 103,
     "metadata": {},
     "output_type": "execute_result"
    }
   ],
   "source": [
    "reporte_unido=pd.merge(reporte, costo_mensual, left_on='primer_pedido_mes', right_on='mes')\n",
    "reporte_unido['cac'] =reporte_unido['costo'] / reporte_unido['n_compradores']\n",
    "reporte_unido.head(1)"
   ]
  },
  {
   "cell_type": "code",
   "execution_count": 104,
   "metadata": {},
   "outputs": [
    {
     "data": {
      "text/html": [
       "<div>\n",
       "<style scoped>\n",
       "    .dataframe tbody tr th:only-of-type {\n",
       "        vertical-align: middle;\n",
       "    }\n",
       "\n",
       "    .dataframe tbody tr th {\n",
       "        vertical-align: top;\n",
       "    }\n",
       "\n",
       "    .dataframe thead th {\n",
       "        text-align: right;\n",
       "    }\n",
       "</style>\n",
       "<table border=\"1\" class=\"dataframe\">\n",
       "  <thead>\n",
       "    <tr style=\"text-align: right;\">\n",
       "      <th>edad</th>\n",
       "      <th>0</th>\n",
       "      <th>1</th>\n",
       "      <th>2</th>\n",
       "      <th>3</th>\n",
       "      <th>4</th>\n",
       "      <th>5</th>\n",
       "      <th>6</th>\n",
       "      <th>7</th>\n",
       "      <th>8</th>\n",
       "      <th>9</th>\n",
       "      <th>10</th>\n",
       "      <th>11</th>\n",
       "    </tr>\n",
       "    <tr>\n",
       "      <th>primer_pedido_mes</th>\n",
       "      <th></th>\n",
       "      <th></th>\n",
       "      <th></th>\n",
       "      <th></th>\n",
       "      <th></th>\n",
       "      <th></th>\n",
       "      <th></th>\n",
       "      <th></th>\n",
       "      <th></th>\n",
       "      <th></th>\n",
       "      <th></th>\n",
       "      <th></th>\n",
       "    </tr>\n",
       "  </thead>\n",
       "  <tbody>\n",
       "    <tr>\n",
       "      <th>2017-06-01</th>\n",
       "      <td>8.905091</td>\n",
       "      <td>8.905091</td>\n",
       "      <td>8.905091</td>\n",
       "      <td>8.905091</td>\n",
       "      <td>8.905091</td>\n",
       "      <td>8.905091</td>\n",
       "      <td>8.905091</td>\n",
       "      <td>8.905091</td>\n",
       "      <td>8.905091</td>\n",
       "      <td>8.905091</td>\n",
       "      <td>8.905091</td>\n",
       "      <td>8.905091</td>\n",
       "    </tr>\n",
       "    <tr>\n",
       "      <th>2017-07-01</th>\n",
       "      <td>9.485486</td>\n",
       "      <td>9.485486</td>\n",
       "      <td>9.485486</td>\n",
       "      <td>9.485486</td>\n",
       "      <td>9.485486</td>\n",
       "      <td>9.485486</td>\n",
       "      <td>9.485486</td>\n",
       "      <td>9.485486</td>\n",
       "      <td>9.485486</td>\n",
       "      <td>9.485486</td>\n",
       "      <td>9.485486</td>\n",
       "      <td>NaN</td>\n",
       "    </tr>\n",
       "    <tr>\n",
       "      <th>2017-08-01</th>\n",
       "      <td>10.796015</td>\n",
       "      <td>10.796015</td>\n",
       "      <td>10.796015</td>\n",
       "      <td>10.796015</td>\n",
       "      <td>10.796015</td>\n",
       "      <td>10.796015</td>\n",
       "      <td>10.796015</td>\n",
       "      <td>10.796015</td>\n",
       "      <td>10.796015</td>\n",
       "      <td>10.796015</td>\n",
       "      <td>NaN</td>\n",
       "      <td>NaN</td>\n",
       "    </tr>\n",
       "    <tr>\n",
       "      <th>2017-09-01</th>\n",
       "      <td>9.441654</td>\n",
       "      <td>9.441654</td>\n",
       "      <td>9.441654</td>\n",
       "      <td>9.441654</td>\n",
       "      <td>9.441654</td>\n",
       "      <td>9.441654</td>\n",
       "      <td>9.441654</td>\n",
       "      <td>9.441654</td>\n",
       "      <td>9.441654</td>\n",
       "      <td>NaN</td>\n",
       "      <td>NaN</td>\n",
       "      <td>NaN</td>\n",
       "    </tr>\n",
       "    <tr>\n",
       "      <th>2017-10-01</th>\n",
       "      <td>8.369327</td>\n",
       "      <td>8.369327</td>\n",
       "      <td>8.369327</td>\n",
       "      <td>8.369327</td>\n",
       "      <td>8.369327</td>\n",
       "      <td>8.369327</td>\n",
       "      <td>8.369327</td>\n",
       "      <td>8.369327</td>\n",
       "      <td>NaN</td>\n",
       "      <td>NaN</td>\n",
       "      <td>NaN</td>\n",
       "      <td>NaN</td>\n",
       "    </tr>\n",
       "    <tr>\n",
       "      <th>2017-11-01</th>\n",
       "      <td>9.288870</td>\n",
       "      <td>9.288870</td>\n",
       "      <td>9.288870</td>\n",
       "      <td>9.288870</td>\n",
       "      <td>9.288870</td>\n",
       "      <td>9.288870</td>\n",
       "      <td>9.288870</td>\n",
       "      <td>NaN</td>\n",
       "      <td>NaN</td>\n",
       "      <td>NaN</td>\n",
       "      <td>NaN</td>\n",
       "      <td>NaN</td>\n",
       "    </tr>\n",
       "    <tr>\n",
       "      <th>2017-12-01</th>\n",
       "      <td>8.741809</td>\n",
       "      <td>8.741809</td>\n",
       "      <td>8.741809</td>\n",
       "      <td>8.741809</td>\n",
       "      <td>8.741809</td>\n",
       "      <td>8.741809</td>\n",
       "      <td>NaN</td>\n",
       "      <td>NaN</td>\n",
       "      <td>NaN</td>\n",
       "      <td>NaN</td>\n",
       "      <td>NaN</td>\n",
       "      <td>NaN</td>\n",
       "    </tr>\n",
       "    <tr>\n",
       "      <th>2018-01-01</th>\n",
       "      <td>9.937302</td>\n",
       "      <td>9.937302</td>\n",
       "      <td>9.937302</td>\n",
       "      <td>9.937302</td>\n",
       "      <td>9.937302</td>\n",
       "      <td>NaN</td>\n",
       "      <td>NaN</td>\n",
       "      <td>NaN</td>\n",
       "      <td>NaN</td>\n",
       "      <td>NaN</td>\n",
       "      <td>NaN</td>\n",
       "      <td>NaN</td>\n",
       "    </tr>\n",
       "    <tr>\n",
       "      <th>2018-02-01</th>\n",
       "      <td>8.962758</td>\n",
       "      <td>8.962758</td>\n",
       "      <td>8.962758</td>\n",
       "      <td>8.962758</td>\n",
       "      <td>NaN</td>\n",
       "      <td>NaN</td>\n",
       "      <td>NaN</td>\n",
       "      <td>NaN</td>\n",
       "      <td>NaN</td>\n",
       "      <td>NaN</td>\n",
       "      <td>NaN</td>\n",
       "      <td>NaN</td>\n",
       "    </tr>\n",
       "    <tr>\n",
       "      <th>2018-03-01</th>\n",
       "      <td>8.608907</td>\n",
       "      <td>8.608907</td>\n",
       "      <td>8.608907</td>\n",
       "      <td>NaN</td>\n",
       "      <td>NaN</td>\n",
       "      <td>NaN</td>\n",
       "      <td>NaN</td>\n",
       "      <td>NaN</td>\n",
       "      <td>NaN</td>\n",
       "      <td>NaN</td>\n",
       "      <td>NaN</td>\n",
       "      <td>NaN</td>\n",
       "    </tr>\n",
       "    <tr>\n",
       "      <th>2018-04-01</th>\n",
       "      <td>9.793225</td>\n",
       "      <td>9.793225</td>\n",
       "      <td>NaN</td>\n",
       "      <td>NaN</td>\n",
       "      <td>NaN</td>\n",
       "      <td>NaN</td>\n",
       "      <td>NaN</td>\n",
       "      <td>NaN</td>\n",
       "      <td>NaN</td>\n",
       "      <td>NaN</td>\n",
       "      <td>NaN</td>\n",
       "      <td>NaN</td>\n",
       "    </tr>\n",
       "    <tr>\n",
       "      <th>2018-05-01</th>\n",
       "      <td>7.437841</td>\n",
       "      <td>NaN</td>\n",
       "      <td>NaN</td>\n",
       "      <td>NaN</td>\n",
       "      <td>NaN</td>\n",
       "      <td>NaN</td>\n",
       "      <td>NaN</td>\n",
       "      <td>NaN</td>\n",
       "      <td>NaN</td>\n",
       "      <td>NaN</td>\n",
       "      <td>NaN</td>\n",
       "      <td>NaN</td>\n",
       "    </tr>\n",
       "  </tbody>\n",
       "</table>\n",
       "</div>"
      ],
      "text/plain": [
       "edad                      0          1          2          3          4   \\\n",
       "primer_pedido_mes                                                          \n",
       "2017-06-01          8.905091   8.905091   8.905091   8.905091   8.905091   \n",
       "2017-07-01          9.485486   9.485486   9.485486   9.485486   9.485486   \n",
       "2017-08-01         10.796015  10.796015  10.796015  10.796015  10.796015   \n",
       "2017-09-01          9.441654   9.441654   9.441654   9.441654   9.441654   \n",
       "2017-10-01          8.369327   8.369327   8.369327   8.369327   8.369327   \n",
       "2017-11-01          9.288870   9.288870   9.288870   9.288870   9.288870   \n",
       "2017-12-01          8.741809   8.741809   8.741809   8.741809   8.741809   \n",
       "2018-01-01          9.937302   9.937302   9.937302   9.937302   9.937302   \n",
       "2018-02-01          8.962758   8.962758   8.962758   8.962758        NaN   \n",
       "2018-03-01          8.608907   8.608907   8.608907        NaN        NaN   \n",
       "2018-04-01          9.793225   9.793225        NaN        NaN        NaN   \n",
       "2018-05-01          7.437841        NaN        NaN        NaN        NaN   \n",
       "\n",
       "edad                      5          6          7          8          9   \\\n",
       "primer_pedido_mes                                                          \n",
       "2017-06-01          8.905091   8.905091   8.905091   8.905091   8.905091   \n",
       "2017-07-01          9.485486   9.485486   9.485486   9.485486   9.485486   \n",
       "2017-08-01         10.796015  10.796015  10.796015  10.796015  10.796015   \n",
       "2017-09-01          9.441654   9.441654   9.441654   9.441654        NaN   \n",
       "2017-10-01          8.369327   8.369327   8.369327        NaN        NaN   \n",
       "2017-11-01          9.288870   9.288870        NaN        NaN        NaN   \n",
       "2017-12-01          8.741809        NaN        NaN        NaN        NaN   \n",
       "2018-01-01               NaN        NaN        NaN        NaN        NaN   \n",
       "2018-02-01               NaN        NaN        NaN        NaN        NaN   \n",
       "2018-03-01               NaN        NaN        NaN        NaN        NaN   \n",
       "2018-04-01               NaN        NaN        NaN        NaN        NaN   \n",
       "2018-05-01               NaN        NaN        NaN        NaN        NaN   \n",
       "\n",
       "edad                     10        11  \n",
       "primer_pedido_mes                      \n",
       "2017-06-01         8.905091  8.905091  \n",
       "2017-07-01         9.485486       NaN  \n",
       "2017-08-01              NaN       NaN  \n",
       "2017-09-01              NaN       NaN  \n",
       "2017-10-01              NaN       NaN  \n",
       "2017-11-01              NaN       NaN  \n",
       "2017-12-01              NaN       NaN  \n",
       "2018-01-01              NaN       NaN  \n",
       "2018-02-01              NaN       NaN  \n",
       "2018-03-01              NaN       NaN  \n",
       "2018-04-01              NaN       NaN  \n",
       "2018-05-01              NaN       NaN  "
      ]
     },
     "execution_count": 104,
     "metadata": {},
     "output_type": "execute_result"
    }
   ],
   "source": [
    "reporte_pivot=reporte_unido.pivot_table(index='primer_pedido_mes', columns='edad', values='cac')\n",
    "reporte_pivot"
   ]
  },
  {
   "cell_type": "markdown",
   "metadata": {},
   "source": [
    "<div class=\"alert alert-block alert-danger\">\n",
    "<b>Comentario del revisor (1ra Iteracion)</b> <a class=“tocSkip”></a>\n",
    "\n",
    "Para tener más claridad de las métricas recomendaría calcular el CAC, los gastos totales así cómo se calculó el ROMI, con un pivot_table \n",
    "</div>"
   ]
  },
  {
   "cell_type": "markdown",
   "metadata": {},
   "source": [
    "CALCULO DE ROMI"
   ]
  },
  {
   "cell_type": "code",
   "execution_count": 105,
   "metadata": {},
   "outputs": [
    {
     "data": {
      "text/html": [
       "<div>\n",
       "<style scoped>\n",
       "    .dataframe tbody tr th:only-of-type {\n",
       "        vertical-align: middle;\n",
       "    }\n",
       "\n",
       "    .dataframe tbody tr th {\n",
       "        vertical-align: top;\n",
       "    }\n",
       "\n",
       "    .dataframe thead th {\n",
       "        text-align: right;\n",
       "    }\n",
       "</style>\n",
       "<table border=\"1\" class=\"dataframe\">\n",
       "  <thead>\n",
       "    <tr style=\"text-align: right;\">\n",
       "      <th>edad</th>\n",
       "      <th>0</th>\n",
       "      <th>1</th>\n",
       "      <th>2</th>\n",
       "      <th>3</th>\n",
       "      <th>4</th>\n",
       "      <th>5</th>\n",
       "      <th>6</th>\n",
       "      <th>7</th>\n",
       "      <th>8</th>\n",
       "      <th>9</th>\n",
       "      <th>10</th>\n",
       "      <th>11</th>\n",
       "    </tr>\n",
       "    <tr>\n",
       "      <th>primer_pedido_mes</th>\n",
       "      <th></th>\n",
       "      <th></th>\n",
       "      <th></th>\n",
       "      <th></th>\n",
       "      <th></th>\n",
       "      <th></th>\n",
       "      <th></th>\n",
       "      <th></th>\n",
       "      <th></th>\n",
       "      <th></th>\n",
       "      <th></th>\n",
       "      <th></th>\n",
       "    </tr>\n",
       "  </thead>\n",
       "  <tbody>\n",
       "    <tr>\n",
       "      <th>2017-06-01</th>\n",
       "      <td>0.27</td>\n",
       "      <td>0.29</td>\n",
       "      <td>0.32</td>\n",
       "      <td>0.37</td>\n",
       "      <td>0.43</td>\n",
       "      <td>0.47</td>\n",
       "      <td>0.52</td>\n",
       "      <td>0.56</td>\n",
       "      <td>0.59</td>\n",
       "      <td>0.62</td>\n",
       "      <td>0.65</td>\n",
       "      <td>0.67</td>\n",
       "    </tr>\n",
       "    <tr>\n",
       "      <th>2017-07-01</th>\n",
       "      <td>0.32</td>\n",
       "      <td>0.33</td>\n",
       "      <td>0.37</td>\n",
       "      <td>0.39</td>\n",
       "      <td>0.40</td>\n",
       "      <td>0.40</td>\n",
       "      <td>0.41</td>\n",
       "      <td>0.42</td>\n",
       "      <td>0.43</td>\n",
       "      <td>0.43</td>\n",
       "      <td>0.44</td>\n",
       "      <td>NaN</td>\n",
       "    </tr>\n",
       "    <tr>\n",
       "      <th>2017-08-01</th>\n",
       "      <td>0.24</td>\n",
       "      <td>0.27</td>\n",
       "      <td>0.29</td>\n",
       "      <td>0.31</td>\n",
       "      <td>0.33</td>\n",
       "      <td>0.34</td>\n",
       "      <td>0.35</td>\n",
       "      <td>0.37</td>\n",
       "      <td>0.38</td>\n",
       "      <td>0.39</td>\n",
       "      <td>NaN</td>\n",
       "      <td>NaN</td>\n",
       "    </tr>\n",
       "    <tr>\n",
       "      <th>2017-09-01</th>\n",
       "      <td>0.30</td>\n",
       "      <td>0.36</td>\n",
       "      <td>0.39</td>\n",
       "      <td>0.60</td>\n",
       "      <td>0.62</td>\n",
       "      <td>0.65</td>\n",
       "      <td>0.69</td>\n",
       "      <td>0.70</td>\n",
       "      <td>0.71</td>\n",
       "      <td>NaN</td>\n",
       "      <td>NaN</td>\n",
       "      <td>NaN</td>\n",
       "    </tr>\n",
       "    <tr>\n",
       "      <th>2017-10-01</th>\n",
       "      <td>0.30</td>\n",
       "      <td>0.33</td>\n",
       "      <td>0.34</td>\n",
       "      <td>0.35</td>\n",
       "      <td>0.36</td>\n",
       "      <td>0.37</td>\n",
       "      <td>0.37</td>\n",
       "      <td>0.38</td>\n",
       "      <td>NaN</td>\n",
       "      <td>NaN</td>\n",
       "      <td>NaN</td>\n",
       "      <td>NaN</td>\n",
       "    </tr>\n",
       "    <tr>\n",
       "      <th>2017-11-01</th>\n",
       "      <td>0.28</td>\n",
       "      <td>0.30</td>\n",
       "      <td>0.31</td>\n",
       "      <td>0.33</td>\n",
       "      <td>0.34</td>\n",
       "      <td>0.34</td>\n",
       "      <td>0.34</td>\n",
       "      <td>NaN</td>\n",
       "      <td>NaN</td>\n",
       "      <td>NaN</td>\n",
       "      <td>NaN</td>\n",
       "      <td>NaN</td>\n",
       "    </tr>\n",
       "    <tr>\n",
       "      <th>2017-12-01</th>\n",
       "      <td>0.27</td>\n",
       "      <td>0.29</td>\n",
       "      <td>0.34</td>\n",
       "      <td>0.40</td>\n",
       "      <td>0.42</td>\n",
       "      <td>0.44</td>\n",
       "      <td>NaN</td>\n",
       "      <td>NaN</td>\n",
       "      <td>NaN</td>\n",
       "      <td>NaN</td>\n",
       "      <td>NaN</td>\n",
       "      <td>NaN</td>\n",
       "    </tr>\n",
       "    <tr>\n",
       "      <th>2018-01-01</th>\n",
       "      <td>0.21</td>\n",
       "      <td>0.22</td>\n",
       "      <td>0.24</td>\n",
       "      <td>0.25</td>\n",
       "      <td>0.25</td>\n",
       "      <td>NaN</td>\n",
       "      <td>NaN</td>\n",
       "      <td>NaN</td>\n",
       "      <td>NaN</td>\n",
       "      <td>NaN</td>\n",
       "      <td>NaN</td>\n",
       "      <td>NaN</td>\n",
       "    </tr>\n",
       "    <tr>\n",
       "      <th>2018-02-01</th>\n",
       "      <td>0.23</td>\n",
       "      <td>0.25</td>\n",
       "      <td>0.25</td>\n",
       "      <td>0.26</td>\n",
       "      <td>NaN</td>\n",
       "      <td>NaN</td>\n",
       "      <td>NaN</td>\n",
       "      <td>NaN</td>\n",
       "      <td>NaN</td>\n",
       "      <td>NaN</td>\n",
       "      <td>NaN</td>\n",
       "      <td>NaN</td>\n",
       "    </tr>\n",
       "    <tr>\n",
       "      <th>2018-03-01</th>\n",
       "      <td>0.28</td>\n",
       "      <td>0.30</td>\n",
       "      <td>0.32</td>\n",
       "      <td>NaN</td>\n",
       "      <td>NaN</td>\n",
       "      <td>NaN</td>\n",
       "      <td>NaN</td>\n",
       "      <td>NaN</td>\n",
       "      <td>NaN</td>\n",
       "      <td>NaN</td>\n",
       "      <td>NaN</td>\n",
       "      <td>NaN</td>\n",
       "    </tr>\n",
       "    <tr>\n",
       "      <th>2018-04-01</th>\n",
       "      <td>0.24</td>\n",
       "      <td>0.26</td>\n",
       "      <td>NaN</td>\n",
       "      <td>NaN</td>\n",
       "      <td>NaN</td>\n",
       "      <td>NaN</td>\n",
       "      <td>NaN</td>\n",
       "      <td>NaN</td>\n",
       "      <td>NaN</td>\n",
       "      <td>NaN</td>\n",
       "      <td>NaN</td>\n",
       "      <td>NaN</td>\n",
       "    </tr>\n",
       "    <tr>\n",
       "      <th>2018-05-01</th>\n",
       "      <td>0.31</td>\n",
       "      <td>NaN</td>\n",
       "      <td>NaN</td>\n",
       "      <td>NaN</td>\n",
       "      <td>NaN</td>\n",
       "      <td>NaN</td>\n",
       "      <td>NaN</td>\n",
       "      <td>NaN</td>\n",
       "      <td>NaN</td>\n",
       "      <td>NaN</td>\n",
       "      <td>NaN</td>\n",
       "      <td>NaN</td>\n",
       "    </tr>\n",
       "  </tbody>\n",
       "</table>\n",
       "</div>"
      ],
      "text/plain": [
       "edad                 0     1     2     3     4     5     6     7     8     9   \\\n",
       "primer_pedido_mes                                                               \n",
       "2017-06-01         0.27  0.29  0.32  0.37  0.43  0.47  0.52  0.56  0.59  0.62   \n",
       "2017-07-01         0.32  0.33  0.37  0.39  0.40  0.40  0.41  0.42  0.43  0.43   \n",
       "2017-08-01         0.24  0.27  0.29  0.31  0.33  0.34  0.35  0.37  0.38  0.39   \n",
       "2017-09-01         0.30  0.36  0.39  0.60  0.62  0.65  0.69  0.70  0.71   NaN   \n",
       "2017-10-01         0.30  0.33  0.34  0.35  0.36  0.37  0.37  0.38   NaN   NaN   \n",
       "2017-11-01         0.28  0.30  0.31  0.33  0.34  0.34  0.34   NaN   NaN   NaN   \n",
       "2017-12-01         0.27  0.29  0.34  0.40  0.42  0.44   NaN   NaN   NaN   NaN   \n",
       "2018-01-01         0.21  0.22  0.24  0.25  0.25   NaN   NaN   NaN   NaN   NaN   \n",
       "2018-02-01         0.23  0.25  0.25  0.26   NaN   NaN   NaN   NaN   NaN   NaN   \n",
       "2018-03-01         0.28  0.30  0.32   NaN   NaN   NaN   NaN   NaN   NaN   NaN   \n",
       "2018-04-01         0.24  0.26   NaN   NaN   NaN   NaN   NaN   NaN   NaN   NaN   \n",
       "2018-05-01         0.31   NaN   NaN   NaN   NaN   NaN   NaN   NaN   NaN   NaN   \n",
       "\n",
       "edad                 10    11  \n",
       "primer_pedido_mes              \n",
       "2017-06-01         0.65  0.67  \n",
       "2017-07-01         0.44   NaN  \n",
       "2017-08-01          NaN   NaN  \n",
       "2017-09-01          NaN   NaN  \n",
       "2017-10-01          NaN   NaN  \n",
       "2017-11-01          NaN   NaN  \n",
       "2017-12-01          NaN   NaN  \n",
       "2018-01-01          NaN   NaN  \n",
       "2018-02-01          NaN   NaN  \n",
       "2018-03-01          NaN   NaN  \n",
       "2018-04-01          NaN   NaN  \n",
       "2018-05-01          NaN   NaN  "
      ]
     },
     "execution_count": 105,
     "metadata": {},
     "output_type": "execute_result"
    }
   ],
   "source": [
    "reporte_unido['romi'] = reporte_unido['ltv'] / reporte_unido['cac']\n",
    "output_romi = reporte_unido.pivot_table(\n",
    "    index='primer_pedido_mes', \n",
    "    columns='edad', \n",
    "    values='romi', \n",
    "    aggfunc='mean')\n",
    "\n",
    "pivot_romi=output_romi.cumsum(axis=1).round(2)\n",
    "pivot_romi"
   ]
  },
  {
   "cell_type": "code",
   "execution_count": 106,
   "metadata": {},
   "outputs": [
    {
     "data": {
      "text/plain": [
       "<AxesSubplot:title={'center':'Romi'}, xlabel='edad', ylabel='primer_pedido_mes'>"
      ]
     },
     "execution_count": 106,
     "metadata": {},
     "output_type": "execute_result"
    },
    {
     "data": {
      "image/png": "[encoded data removed]",
      "text/plain": [
       "<Figure size 1300x900 with 2 Axes>"
      ]
     },
     "metadata": {},
     "output_type": "display_data"
    }
   ],
   "source": [
    "plt.figure(figsize=(13, 9))\n",
    "plt.title('Romi')\n",
    "sns.heatmap(\n",
    "    pivot_romi,\n",
    "    annot=True,\n",
    "    fmt='.1f',\n",
    "    linewidths=1,\n",
    "    linecolor='green',\n",
    ")"
   ]
  },
  {
   "cell_type": "markdown",
   "metadata": {},
   "source": [
    "Se observa que las cohortes de junio y septiembre tienen los mejores Romi "
   ]
  },
  {
   "cell_type": "markdown",
   "metadata": {},
   "source": [
    "<div class=\"alert alert-block alert-danger\">\n",
    "<b>Comentario del revisor (1ra Iteracion)</b> <a class=“tocSkip”></a>\n",
    "\n",
    "Los resultados de pivot_table es mejor mostrarlos en una gráfica tipo mapa de calor que sólo la tabla cómo tal\n",
    "</div>"
   ]
  },
  {
   "cell_type": "markdown",
   "metadata": {},
   "source": [
    "<div class=\"alert alert-block alert-success\">\n",
    "<b>Comentario del revisor (2da Iteracion)</b> <a class=“tocSkip”></a>\n",
    "\n",
    "Excelente! Siempre busca dejar los resultados en algo más visual para que sea más fácil de entender y explicar los mismos\n",
    "</div>"
   ]
  },
  {
   "cell_type": "code",
   "execution_count": 107,
   "metadata": {},
   "outputs": [
    {
     "data": {
      "text/html": [
       "<div>\n",
       "<style scoped>\n",
       "    .dataframe tbody tr th:only-of-type {\n",
       "        vertical-align: middle;\n",
       "    }\n",
       "\n",
       "    .dataframe tbody tr th {\n",
       "        vertical-align: top;\n",
       "    }\n",
       "\n",
       "    .dataframe thead th {\n",
       "        text-align: right;\n",
       "    }\n",
       "</style>\n",
       "<table border=\"1\" class=\"dataframe\">\n",
       "  <thead>\n",
       "    <tr style=\"text-align: right;\">\n",
       "      <th></th>\n",
       "      <th>primer_pedido_mes</th>\n",
       "      <th>n_compradores</th>\n",
       "      <th>mes</th>\n",
       "      <th>ganancia</th>\n",
       "      <th>gp</th>\n",
       "      <th>edad</th>\n",
       "      <th>ltv</th>\n",
       "      <th>costo_x</th>\n",
       "      <th>cac</th>\n",
       "      <th>romi</th>\n",
       "      <th>anuncio</th>\n",
       "      <th>fecha</th>\n",
       "      <th>costo_y</th>\n",
       "    </tr>\n",
       "  </thead>\n",
       "  <tbody>\n",
       "    <tr>\n",
       "      <th>0</th>\n",
       "      <td>2017-06-01</td>\n",
       "      <td>2023</td>\n",
       "      <td>2017-06-01</td>\n",
       "      <td>9557.49</td>\n",
       "      <td>4778.745</td>\n",
       "      <td>0</td>\n",
       "      <td>2.362207</td>\n",
       "      <td>18015.0</td>\n",
       "      <td>8.905091</td>\n",
       "      <td>0.265265</td>\n",
       "      <td>1</td>\n",
       "      <td>2017-06-01</td>\n",
       "      <td>75.20</td>\n",
       "    </tr>\n",
       "    <tr>\n",
       "      <th>1</th>\n",
       "      <td>2017-06-01</td>\n",
       "      <td>2023</td>\n",
       "      <td>2017-06-01</td>\n",
       "      <td>9557.49</td>\n",
       "      <td>4778.745</td>\n",
       "      <td>0</td>\n",
       "      <td>2.362207</td>\n",
       "      <td>18015.0</td>\n",
       "      <td>8.905091</td>\n",
       "      <td>0.265265</td>\n",
       "      <td>1</td>\n",
       "      <td>2017-06-02</td>\n",
       "      <td>62.25</td>\n",
       "    </tr>\n",
       "  </tbody>\n",
       "</table>\n",
       "</div>"
      ],
      "text/plain": [
       "  primer_pedido_mes  n_compradores        mes  ganancia        gp  edad  \\\n",
       "0        2017-06-01           2023 2017-06-01   9557.49  4778.745     0   \n",
       "1        2017-06-01           2023 2017-06-01   9557.49  4778.745     0   \n",
       "\n",
       "        ltv  costo_x       cac      romi  anuncio       fecha  costo_y  \n",
       "0  2.362207  18015.0  8.905091  0.265265        1  2017-06-01    75.20  \n",
       "1  2.362207  18015.0  8.905091  0.265265        1  2017-06-02    62.25  "
      ]
     },
     "execution_count": 107,
     "metadata": {},
     "output_type": "execute_result"
    }
   ],
   "source": [
    "reporte_costo=pd.merge(reporte_unido, costo, on='mes')\n",
    "reporte_costo.head(2)"
   ]
  },
  {
   "cell_type": "markdown",
   "metadata": {},
   "source": [
    "COSTO POR TIPO DE ANUNCIO"
   ]
  },
  {
   "cell_type": "code",
   "execution_count": 108,
   "metadata": {},
   "outputs": [
    {
     "data": {
      "text/plain": [
       "anuncio\n",
       "1     21882.727881\n",
       "2     21882.727881\n",
       "3     21882.727881\n",
       "4     21882.727881\n",
       "5     21975.265102\n",
       "9     21882.727881\n",
       "10    21882.727881\n",
       "Name: cac, dtype: float64"
      ]
     },
     "execution_count": 108,
     "metadata": {},
     "output_type": "execute_result"
    }
   ],
   "source": [
    "costo_tipo_anuncio=reporte_costo.groupby('anuncio')['cac'].sum()\n",
    "costo_tipo_anuncio"
   ]
  },
  {
   "cell_type": "code",
   "execution_count": 109,
   "metadata": {},
   "outputs": [
    {
     "data": {
      "text/plain": [
       "<AxesSubplot:xlabel='anuncio'>"
      ]
     },
     "execution_count": 109,
     "metadata": {},
     "output_type": "execute_result"
    },
    {
     "data": {
      "image/png": "[encoded data removed]",
      "text/plain": [
       "<Figure size 640x480 with 1 Axes>"
      ]
     },
     "metadata": {},
     "output_type": "display_data"
    }
   ],
   "source": [
    "costo_tipo_anuncio.plot(kind='bar')"
   ]
  },
  {
   "cell_type": "markdown",
   "metadata": {},
   "source": [
    "El costo de adquisicion de cliente para cada tipo de fuente de anuncio se ve muy parecido, opino que todas las fuentes de anuncio son rentables. Me enfoque en el costo de adquisicion cliente, porque aqui el costo ya esta dividido por el numero de clientes, es decir cuanto dinero se gasto pero cuantos clientes se adquirieron. "
   ]
  },
  {
   "cell_type": "markdown",
   "metadata": {},
   "source": [
    "<div class=\"alert alert-block alert-danger\">\n",
    "<b>Comentario del revisor (1ra Iteracion)</b> <a class=“tocSkip”></a>\n",
    "\n",
    "Tienes un buen avance Lucero, pero hace falta que se redacte más cada paso del análisis para que el notebook sea claro. Y aquí al final deberías tener una sección dedicada a la conclusión general donde hagas tipo un resúmen de los hallazgos más importantes del proyecto\n",
    "</div>"
   ]
  },
  {
   "cell_type": "markdown",
   "metadata": {},
   "source": [
    "CONCLUSION GENERAL\n",
    "\n",
    "- Hubo mas usuarios de la pagina en Diciembre\n",
    "- La conversion es rapida 1-2 dias\n",
    "- El canal 2 de marketing tiene mayor numero de usuarios que regresan a visitar la pagina\n",
    "- En diciembre se hacen mas pedidos\n",
    "- Las cohortes de junio y septiembre presentan los mejores Romi "
   ]
  },
  {
   "cell_type": "markdown",
   "metadata": {},
   "source": [
    "<div class=\"alert alert-block alert-success\">\n",
    "<b>Comentario del revisor (2da Iteracion)</b> <a class=“tocSkip”></a>\n",
    "\n",
    "Buen trabajo con los cambios realizados! Siempre en casos con métricas de negocio tan complejas de calcular hay que buscar cómo explicar estos resultados de manera más sencilla y para esto las gráficas siempre son una gran herramienta.\n",
    "\n",
    "Saludos!\n",
    "</div>"
   ]
  }
 ],
 "metadata": {
  "ExecuteTimeLog": [
   {
    "duration": 726,
    "start_time": "2025-03-29T15:41:11.292Z"
   },
   {
    "duration": 42,
    "start_time": "2025-03-29T15:41:42.440Z"
   },
   {
    "duration": 10,
    "start_time": "2025-03-29T15:41:58.107Z"
   },
   {
    "duration": 171,
    "start_time": "2025-03-29T15:42:16.095Z"
   },
   {
    "duration": 370,
    "start_time": "2025-03-29T15:42:22.207Z"
   },
   {
    "duration": 9,
    "start_time": "2025-03-29T15:42:27.342Z"
   },
   {
    "duration": 44,
    "start_time": "2025-03-29T16:11:37.614Z"
   },
   {
    "duration": 54,
    "start_time": "2025-03-29T16:19:09.526Z"
   },
   {
    "duration": 37,
    "start_time": "2025-03-29T16:31:19.031Z"
   },
   {
    "duration": 41,
    "start_time": "2025-03-29T16:31:36.487Z"
   },
   {
    "duration": 46,
    "start_time": "2025-03-29T16:32:28.359Z"
   },
   {
    "duration": 42,
    "start_time": "2025-03-29T16:32:33.237Z"
   },
   {
    "duration": 11,
    "start_time": "2025-03-29T16:33:35.853Z"
   },
   {
    "duration": 14,
    "start_time": "2025-03-29T16:33:54.080Z"
   },
   {
    "duration": 13,
    "start_time": "2025-03-29T16:34:03.418Z"
   },
   {
    "duration": 58,
    "start_time": "2025-03-29T16:45:35.548Z"
   },
   {
    "duration": 40,
    "start_time": "2025-03-29T16:45:59.282Z"
   },
   {
    "duration": 85,
    "start_time": "2025-03-29T16:47:48.904Z"
   },
   {
    "duration": 40,
    "start_time": "2025-03-29T17:10:35.313Z"
   },
   {
    "duration": 695,
    "start_time": "2025-03-29T19:48:32.220Z"
   },
   {
    "duration": 40,
    "start_time": "2025-03-29T19:48:32.917Z"
   },
   {
    "duration": 124,
    "start_time": "2025-03-29T19:48:32.960Z"
   },
   {
    "duration": 129,
    "start_time": "2025-03-29T19:48:33.086Z"
   },
   {
    "duration": 287,
    "start_time": "2025-03-29T19:48:33.217Z"
   },
   {
    "duration": 0,
    "start_time": "2025-03-29T19:48:33.506Z"
   },
   {
    "duration": 0,
    "start_time": "2025-03-29T19:48:33.507Z"
   },
   {
    "duration": 72,
    "start_time": "2025-03-29T19:49:04.405Z"
   },
   {
    "duration": 69,
    "start_time": "2025-03-29T19:49:13.957Z"
   },
   {
    "duration": 120,
    "start_time": "2025-03-29T19:59:09.899Z"
   },
   {
    "duration": 16,
    "start_time": "2025-03-29T19:59:54.028Z"
   },
   {
    "duration": 5,
    "start_time": "2025-03-29T20:00:11.203Z"
   },
   {
    "duration": 126,
    "start_time": "2025-03-29T20:00:18.826Z"
   },
   {
    "duration": 132,
    "start_time": "2025-03-29T20:00:27.839Z"
   },
   {
    "duration": 4,
    "start_time": "2025-03-29T20:00:44.474Z"
   },
   {
    "duration": 4,
    "start_time": "2025-03-29T20:01:02.734Z"
   },
   {
    "duration": 126,
    "start_time": "2025-03-29T20:01:13.332Z"
   },
   {
    "duration": 133,
    "start_time": "2025-03-29T20:01:23.901Z"
   },
   {
    "duration": 196,
    "start_time": "2025-03-29T20:02:12.930Z"
   },
   {
    "duration": 74,
    "start_time": "2025-03-29T20:03:26.534Z"
   },
   {
    "duration": 45,
    "start_time": "2025-03-29T20:03:36.159Z"
   },
   {
    "duration": 158,
    "start_time": "2025-03-30T15:46:06.573Z"
   },
   {
    "duration": 737,
    "start_time": "2025-03-30T15:46:12.384Z"
   },
   {
    "duration": 37,
    "start_time": "2025-03-30T15:46:13.123Z"
   },
   {
    "duration": 122,
    "start_time": "2025-03-30T15:46:13.162Z"
   },
   {
    "duration": 125,
    "start_time": "2025-03-30T15:46:13.286Z"
   },
   {
    "duration": 138,
    "start_time": "2025-03-30T15:46:13.414Z"
   },
   {
    "duration": 64,
    "start_time": "2025-03-30T15:46:13.554Z"
   },
   {
    "duration": 64,
    "start_time": "2025-03-30T15:46:13.620Z"
   },
   {
    "duration": 14,
    "start_time": "2025-03-30T15:46:13.686Z"
   },
   {
    "duration": 10,
    "start_time": "2025-03-30T15:46:13.701Z"
   },
   {
    "duration": 23,
    "start_time": "2025-03-30T15:47:13.254Z"
   },
   {
    "duration": 26,
    "start_time": "2025-03-30T15:51:22.761Z"
   },
   {
    "duration": 15,
    "start_time": "2025-03-30T15:53:27.392Z"
   },
   {
    "duration": 5,
    "start_time": "2025-03-30T15:54:46.461Z"
   },
   {
    "duration": 8,
    "start_time": "2025-03-30T15:55:19.651Z"
   },
   {
    "duration": 30,
    "start_time": "2025-03-30T15:55:51.778Z"
   },
   {
    "duration": 9,
    "start_time": "2025-03-30T15:57:12.323Z"
   },
   {
    "duration": 38,
    "start_time": "2025-03-30T15:57:43.295Z"
   },
   {
    "duration": 61,
    "start_time": "2025-03-30T16:04:28.016Z"
   },
   {
    "duration": 47,
    "start_time": "2025-03-30T16:04:55.359Z"
   },
   {
    "duration": 71,
    "start_time": "2025-03-30T16:09:59.655Z"
   },
   {
    "duration": 27,
    "start_time": "2025-03-30T16:13:20.402Z"
   },
   {
    "duration": 13,
    "start_time": "2025-03-30T16:13:58.253Z"
   },
   {
    "duration": 47,
    "start_time": "2025-03-30T16:15:21.343Z"
   },
   {
    "duration": 68,
    "start_time": "2025-03-30T16:18:19.155Z"
   },
   {
    "duration": 58,
    "start_time": "2025-03-30T16:19:31.852Z"
   },
   {
    "duration": 137,
    "start_time": "2025-03-30T16:47:37.643Z"
   },
   {
    "duration": 51,
    "start_time": "2025-03-30T16:48:55.420Z"
   },
   {
    "duration": 49,
    "start_time": "2025-03-30T16:49:38.896Z"
   },
   {
    "duration": 2337,
    "start_time": "2025-03-30T16:52:07.917Z"
   },
   {
    "duration": 18,
    "start_time": "2025-03-30T16:55:36.303Z"
   },
   {
    "duration": 12,
    "start_time": "2025-03-30T16:55:48.508Z"
   },
   {
    "duration": 18,
    "start_time": "2025-03-30T16:55:55.131Z"
   },
   {
    "duration": 51,
    "start_time": "2025-03-30T16:56:59.535Z"
   },
   {
    "duration": 49,
    "start_time": "2025-03-30T16:57:14.157Z"
   },
   {
    "duration": 15,
    "start_time": "2025-03-30T17:06:12.191Z"
   },
   {
    "duration": 52,
    "start_time": "2025-03-30T17:06:57.698Z"
   },
   {
    "duration": 86,
    "start_time": "2025-03-30T17:08:24.383Z"
   },
   {
    "duration": 55,
    "start_time": "2025-03-30T17:08:56.972Z"
   },
   {
    "duration": 656,
    "start_time": "2025-03-30T17:09:20.746Z"
   },
   {
    "duration": 39,
    "start_time": "2025-03-30T17:09:21.404Z"
   },
   {
    "duration": 141,
    "start_time": "2025-03-30T17:09:21.445Z"
   },
   {
    "duration": 133,
    "start_time": "2025-03-30T17:09:21.587Z"
   },
   {
    "duration": 147,
    "start_time": "2025-03-30T17:09:21.723Z"
   },
   {
    "duration": 72,
    "start_time": "2025-03-30T17:09:21.872Z"
   },
   {
    "duration": 50,
    "start_time": "2025-03-30T17:09:21.946Z"
   },
   {
    "duration": 11,
    "start_time": "2025-03-30T17:09:21.998Z"
   },
   {
    "duration": 78,
    "start_time": "2025-03-30T17:09:22.011Z"
   },
   {
    "duration": 17,
    "start_time": "2025-03-30T17:09:22.090Z"
   },
   {
    "duration": 87,
    "start_time": "2025-03-30T17:09:22.109Z"
   },
   {
    "duration": 21,
    "start_time": "2025-03-30T17:09:22.198Z"
   },
   {
    "duration": 98,
    "start_time": "2025-03-30T17:09:22.221Z"
   },
   {
    "duration": 0,
    "start_time": "2025-03-30T17:09:22.321Z"
   },
   {
    "duration": 21,
    "start_time": "2025-03-30T17:10:19.078Z"
   },
   {
    "duration": 57,
    "start_time": "2025-03-30T17:10:32.657Z"
   },
   {
    "duration": 10,
    "start_time": "2025-03-30T17:10:48.931Z"
   },
   {
    "duration": 10,
    "start_time": "2025-03-30T17:12:16.584Z"
   },
   {
    "duration": 10,
    "start_time": "2025-03-30T17:13:46.509Z"
   },
   {
    "duration": 11,
    "start_time": "2025-03-30T17:14:20.551Z"
   },
   {
    "duration": 9,
    "start_time": "2025-03-30T17:14:42.964Z"
   },
   {
    "duration": 615,
    "start_time": "2025-03-30T17:14:51.354Z"
   },
   {
    "duration": 38,
    "start_time": "2025-03-30T17:14:51.972Z"
   },
   {
    "duration": 126,
    "start_time": "2025-03-30T17:14:52.011Z"
   },
   {
    "duration": 127,
    "start_time": "2025-03-30T17:14:52.138Z"
   },
   {
    "duration": 134,
    "start_time": "2025-03-30T17:14:52.271Z"
   },
   {
    "duration": 51,
    "start_time": "2025-03-30T17:14:52.407Z"
   },
   {
    "duration": 32,
    "start_time": "2025-03-30T17:14:52.459Z"
   },
   {
    "duration": 7,
    "start_time": "2025-03-30T17:14:52.493Z"
   },
   {
    "duration": 80,
    "start_time": "2025-03-30T17:14:52.501Z"
   },
   {
    "duration": 13,
    "start_time": "2025-03-30T17:14:52.583Z"
   },
   {
    "duration": 76,
    "start_time": "2025-03-30T17:14:52.597Z"
   },
   {
    "duration": 20,
    "start_time": "2025-03-30T17:14:52.675Z"
   },
   {
    "duration": 98,
    "start_time": "2025-03-30T17:14:52.696Z"
   },
   {
    "duration": 0,
    "start_time": "2025-03-30T17:14:52.796Z"
   },
   {
    "duration": 14,
    "start_time": "2025-03-30T17:17:21.657Z"
   },
   {
    "duration": 146,
    "start_time": "2025-03-30T17:18:23.040Z"
   },
   {
    "duration": 137,
    "start_time": "2025-03-30T17:19:27.786Z"
   },
   {
    "duration": 249,
    "start_time": "2025-03-30T17:22:13.773Z"
   },
   {
    "duration": 236,
    "start_time": "2025-03-30T17:23:04.350Z"
   },
   {
    "duration": 186,
    "start_time": "2025-03-30T17:23:24.061Z"
   },
   {
    "duration": 164,
    "start_time": "2025-03-30T17:23:59.678Z"
   },
   {
    "duration": 22,
    "start_time": "2025-03-30T17:25:14.368Z"
   },
   {
    "duration": 19,
    "start_time": "2025-03-30T17:29:08.594Z"
   },
   {
    "duration": 2,
    "start_time": "2025-03-30T17:29:26.033Z"
   },
   {
    "duration": 2,
    "start_time": "2025-03-30T17:29:29.439Z"
   },
   {
    "duration": 34,
    "start_time": "2025-03-30T17:29:48.756Z"
   },
   {
    "duration": 19,
    "start_time": "2025-03-30T17:30:37.349Z"
   },
   {
    "duration": 36,
    "start_time": "2025-03-30T17:31:31.501Z"
   },
   {
    "duration": 16,
    "start_time": "2025-03-30T17:33:37.750Z"
   },
   {
    "duration": 116,
    "start_time": "2025-03-30T17:34:32.388Z"
   },
   {
    "duration": 41,
    "start_time": "2025-03-30T17:35:55.736Z"
   },
   {
    "duration": 39,
    "start_time": "2025-03-30T17:39:50.792Z"
   },
   {
    "duration": 57,
    "start_time": "2025-03-30T17:39:59.319Z"
   },
   {
    "duration": 48,
    "start_time": "2025-03-30T17:42:32.426Z"
   },
   {
    "duration": 50,
    "start_time": "2025-03-30T17:43:10.546Z"
   },
   {
    "duration": 45,
    "start_time": "2025-03-30T17:43:18.051Z"
   },
   {
    "duration": 42,
    "start_time": "2025-03-30T17:48:07.015Z"
   },
   {
    "duration": 50,
    "start_time": "2025-03-30T17:48:33.759Z"
   },
   {
    "duration": 1705,
    "start_time": "2025-03-30T17:48:56.823Z"
   },
   {
    "duration": 154,
    "start_time": "2025-03-30T17:49:42.196Z"
   },
   {
    "duration": 1773,
    "start_time": "2025-03-30T17:50:15.353Z"
   },
   {
    "duration": 1640,
    "start_time": "2025-03-30T17:50:27.310Z"
   },
   {
    "duration": 56,
    "start_time": "2025-03-30T17:51:59.553Z"
   },
   {
    "duration": 47,
    "start_time": "2025-03-30T17:52:05.040Z"
   },
   {
    "duration": 58,
    "start_time": "2025-03-30T17:56:40.073Z"
   },
   {
    "duration": 59,
    "start_time": "2025-03-30T17:56:58.563Z"
   },
   {
    "duration": 59,
    "start_time": "2025-03-30T17:58:46.157Z"
   },
   {
    "duration": 61,
    "start_time": "2025-03-30T17:59:46.355Z"
   },
   {
    "duration": 59,
    "start_time": "2025-03-30T18:00:03.542Z"
   },
   {
    "duration": 62,
    "start_time": "2025-03-30T18:00:12.720Z"
   },
   {
    "duration": 4,
    "start_time": "2025-03-30T18:02:29.188Z"
   },
   {
    "duration": 101,
    "start_time": "2025-03-30T18:02:39.200Z"
   },
   {
    "duration": 96,
    "start_time": "2025-03-30T18:03:06.814Z"
   },
   {
    "duration": 90,
    "start_time": "2025-03-30T18:03:18.830Z"
   },
   {
    "duration": 144,
    "start_time": "2025-03-30T18:05:27.582Z"
   },
   {
    "duration": 93,
    "start_time": "2025-03-30T18:07:09.539Z"
   },
   {
    "duration": 558,
    "start_time": "2025-03-30T18:08:28.804Z"
   },
   {
    "duration": 90,
    "start_time": "2025-03-30T18:09:11.058Z"
   },
   {
    "duration": 266,
    "start_time": "2025-03-30T18:09:50.227Z"
   },
   {
    "duration": 16,
    "start_time": "2025-03-30T18:10:16.356Z"
   },
   {
    "duration": 15,
    "start_time": "2025-03-30T18:10:36.796Z"
   },
   {
    "duration": 19,
    "start_time": "2025-03-30T18:11:18.097Z"
   },
   {
    "duration": 14,
    "start_time": "2025-03-30T18:11:30.658Z"
   },
   {
    "duration": 182,
    "start_time": "2025-03-30T20:35:13.692Z"
   },
   {
    "duration": 692,
    "start_time": "2025-03-30T20:35:22.577Z"
   },
   {
    "duration": 43,
    "start_time": "2025-03-30T20:35:23.271Z"
   },
   {
    "duration": 123,
    "start_time": "2025-03-30T20:35:23.316Z"
   },
   {
    "duration": 126,
    "start_time": "2025-03-30T20:35:23.441Z"
   },
   {
    "duration": 134,
    "start_time": "2025-03-30T20:35:23.570Z"
   },
   {
    "duration": 55,
    "start_time": "2025-03-30T20:35:23.705Z"
   },
   {
    "duration": 25,
    "start_time": "2025-03-30T20:35:23.762Z"
   },
   {
    "duration": 23,
    "start_time": "2025-03-30T20:35:23.789Z"
   },
   {
    "duration": 65,
    "start_time": "2025-03-30T20:35:23.814Z"
   },
   {
    "duration": 13,
    "start_time": "2025-03-30T20:35:23.881Z"
   },
   {
    "duration": 171,
    "start_time": "2025-03-30T20:35:23.911Z"
   },
   {
    "duration": 77,
    "start_time": "2025-03-30T20:35:24.083Z"
   },
   {
    "duration": 9,
    "start_time": "2025-03-30T20:35:24.162Z"
   },
   {
    "duration": 707,
    "start_time": "2025-03-30T20:51:24.085Z"
   },
   {
    "duration": 667,
    "start_time": "2025-03-30T20:51:32.634Z"
   },
   {
    "duration": 42,
    "start_time": "2025-03-30T20:51:33.303Z"
   },
   {
    "duration": 132,
    "start_time": "2025-03-30T20:51:33.346Z"
   },
   {
    "duration": 127,
    "start_time": "2025-03-30T20:51:33.480Z"
   },
   {
    "duration": 140,
    "start_time": "2025-03-30T20:51:33.611Z"
   },
   {
    "duration": 51,
    "start_time": "2025-03-30T20:51:33.753Z"
   },
   {
    "duration": 24,
    "start_time": "2025-03-30T20:51:33.812Z"
   },
   {
    "duration": 7,
    "start_time": "2025-03-30T20:51:33.838Z"
   },
   {
    "duration": 80,
    "start_time": "2025-03-30T20:51:33.846Z"
   },
   {
    "duration": 13,
    "start_time": "2025-03-30T20:51:33.929Z"
   },
   {
    "duration": 187,
    "start_time": "2025-03-30T20:51:33.944Z"
   },
   {
    "duration": 725,
    "start_time": "2025-03-30T20:51:34.132Z"
   },
   {
    "duration": 0,
    "start_time": "2025-03-30T20:51:34.859Z"
   },
   {
    "duration": 159,
    "start_time": "2025-03-31T17:42:18.401Z"
   },
   {
    "duration": 750,
    "start_time": "2025-03-31T17:42:23.654Z"
   },
   {
    "duration": 38,
    "start_time": "2025-03-31T17:42:24.406Z"
   },
   {
    "duration": 127,
    "start_time": "2025-03-31T17:42:24.446Z"
   },
   {
    "duration": 127,
    "start_time": "2025-03-31T17:42:24.574Z"
   },
   {
    "duration": 133,
    "start_time": "2025-03-31T17:42:24.704Z"
   },
   {
    "duration": 85,
    "start_time": "2025-03-31T17:42:24.839Z"
   },
   {
    "duration": 24,
    "start_time": "2025-03-31T17:42:24.926Z"
   },
   {
    "duration": 8,
    "start_time": "2025-03-31T17:42:24.952Z"
   },
   {
    "duration": 87,
    "start_time": "2025-03-31T17:42:24.963Z"
   },
   {
    "duration": 13,
    "start_time": "2025-03-31T17:42:25.052Z"
   },
   {
    "duration": 191,
    "start_time": "2025-03-31T17:42:25.066Z"
   },
   {
    "duration": 728,
    "start_time": "2025-03-31T17:42:25.259Z"
   },
   {
    "duration": 0,
    "start_time": "2025-03-31T17:42:25.989Z"
   },
   {
    "duration": 411,
    "start_time": "2025-03-31T17:44:50.591Z"
   },
   {
    "duration": 89,
    "start_time": "2025-03-31T17:44:54.582Z"
   },
   {
    "duration": 115,
    "start_time": "2025-03-31T17:44:56.962Z"
   },
   {
    "duration": 678,
    "start_time": "2025-03-31T17:45:07.836Z"
   },
   {
    "duration": 39,
    "start_time": "2025-03-31T17:45:08.516Z"
   },
   {
    "duration": 105,
    "start_time": "2025-03-31T17:45:08.558Z"
   },
   {
    "duration": 130,
    "start_time": "2025-03-31T17:45:08.666Z"
   },
   {
    "duration": 150,
    "start_time": "2025-03-31T17:45:08.797Z"
   },
   {
    "duration": 106,
    "start_time": "2025-03-31T17:45:08.948Z"
   },
   {
    "duration": 34,
    "start_time": "2025-03-31T17:45:09.055Z"
   },
   {
    "duration": 415,
    "start_time": "2025-03-31T17:45:09.091Z"
   },
   {
    "duration": 0,
    "start_time": "2025-03-31T17:45:09.508Z"
   },
   {
    "duration": 0,
    "start_time": "2025-03-31T17:45:09.509Z"
   },
   {
    "duration": 0,
    "start_time": "2025-03-31T17:45:09.511Z"
   },
   {
    "duration": 0,
    "start_time": "2025-03-31T17:45:09.524Z"
   },
   {
    "duration": 0,
    "start_time": "2025-03-31T17:45:09.526Z"
   },
   {
    "duration": 10,
    "start_time": "2025-03-31T17:48:06.823Z"
   },
   {
    "duration": 16,
    "start_time": "2025-03-31T17:49:41.179Z"
   },
   {
    "duration": 14,
    "start_time": "2025-03-31T17:50:00.735Z"
   },
   {
    "duration": 669,
    "start_time": "2025-03-31T17:50:10.642Z"
   },
   {
    "duration": 40,
    "start_time": "2025-03-31T17:50:11.313Z"
   },
   {
    "duration": 106,
    "start_time": "2025-03-31T17:50:11.354Z"
   },
   {
    "duration": 131,
    "start_time": "2025-03-31T17:50:11.461Z"
   },
   {
    "duration": 156,
    "start_time": "2025-03-31T17:50:11.595Z"
   },
   {
    "duration": 110,
    "start_time": "2025-03-31T17:50:11.753Z"
   },
   {
    "duration": 35,
    "start_time": "2025-03-31T17:50:11.866Z"
   },
   {
    "duration": 21,
    "start_time": "2025-03-31T17:50:11.903Z"
   },
   {
    "duration": 72,
    "start_time": "2025-03-31T17:50:11.925Z"
   },
   {
    "duration": 26,
    "start_time": "2025-03-31T17:50:11.999Z"
   },
   {
    "duration": 339,
    "start_time": "2025-03-31T17:50:12.026Z"
   },
   {
    "duration": 5017,
    "start_time": "2025-03-31T17:50:12.367Z"
   },
   {
    "duration": 0,
    "start_time": "2025-03-31T17:50:17.386Z"
   },
   {
    "duration": 4870,
    "start_time": "2025-03-31T17:50:17.756Z"
   },
   {
    "duration": 558,
    "start_time": "2025-03-31T17:51:41.577Z"
   },
   {
    "duration": 326,
    "start_time": "2025-03-31T17:57:54.098Z"
   },
   {
    "duration": 258,
    "start_time": "2025-03-31T17:58:12.880Z"
   },
   {
    "duration": 83,
    "start_time": "2025-03-31T18:13:01.077Z"
   },
   {
    "duration": 28,
    "start_time": "2025-03-31T18:17:30.266Z"
   },
   {
    "duration": 666,
    "start_time": "2025-03-31T18:19:54.794Z"
   },
   {
    "duration": 38,
    "start_time": "2025-03-31T18:19:55.462Z"
   },
   {
    "duration": 101,
    "start_time": "2025-03-31T18:19:55.502Z"
   },
   {
    "duration": 134,
    "start_time": "2025-03-31T18:19:55.606Z"
   },
   {
    "duration": 147,
    "start_time": "2025-03-31T18:19:55.742Z"
   },
   {
    "duration": 100,
    "start_time": "2025-03-31T18:19:55.891Z"
   },
   {
    "duration": 42,
    "start_time": "2025-03-31T18:19:55.993Z"
   },
   {
    "duration": 7,
    "start_time": "2025-03-31T18:19:56.037Z"
   },
   {
    "duration": 82,
    "start_time": "2025-03-31T18:19:56.045Z"
   },
   {
    "duration": 2242,
    "start_time": "2025-03-31T18:19:56.129Z"
   },
   {
    "duration": 2,
    "start_time": "2025-03-31T18:19:58.373Z"
   },
   {
    "duration": 189,
    "start_time": "2025-03-31T18:19:58.377Z"
   },
   {
    "duration": 0,
    "start_time": "2025-03-31T18:19:58.568Z"
   },
   {
    "duration": 2244,
    "start_time": "2025-03-31T18:20:06.660Z"
   },
   {
    "duration": 2235,
    "start_time": "2025-03-31T18:20:36.813Z"
   },
   {
    "duration": 2331,
    "start_time": "2025-03-31T18:22:09.921Z"
   },
   {
    "duration": 14,
    "start_time": "2025-03-31T18:22:50.587Z"
   },
   {
    "duration": 12,
    "start_time": "2025-03-31T18:25:44.192Z"
   },
   {
    "duration": 2121,
    "start_time": "2025-03-31T18:26:14.611Z"
   },
   {
    "duration": 2698,
    "start_time": "2025-03-31T18:26:51.785Z"
   },
   {
    "duration": 761,
    "start_time": "2025-03-31T18:28:49.265Z"
   },
   {
    "duration": 43,
    "start_time": "2025-03-31T18:28:50.030Z"
   },
   {
    "duration": 105,
    "start_time": "2025-03-31T18:28:50.075Z"
   },
   {
    "duration": 141,
    "start_time": "2025-03-31T18:28:50.183Z"
   },
   {
    "duration": 154,
    "start_time": "2025-03-31T18:28:50.325Z"
   },
   {
    "duration": 100,
    "start_time": "2025-03-31T18:28:50.481Z"
   },
   {
    "duration": 45,
    "start_time": "2025-03-31T18:28:50.582Z"
   },
   {
    "duration": 8,
    "start_time": "2025-03-31T18:28:50.629Z"
   },
   {
    "duration": 86,
    "start_time": "2025-03-31T18:28:50.639Z"
   },
   {
    "duration": 2235,
    "start_time": "2025-03-31T18:28:50.727Z"
   },
   {
    "duration": 70,
    "start_time": "2025-03-31T18:28:52.964Z"
   },
   {
    "duration": 199,
    "start_time": "2025-03-31T18:28:53.036Z"
   },
   {
    "duration": 0,
    "start_time": "2025-03-31T18:28:53.237Z"
   },
   {
    "duration": 425,
    "start_time": "2025-03-31T18:29:02.545Z"
   },
   {
    "duration": 2333,
    "start_time": "2025-03-31T18:34:44.050Z"
   },
   {
    "duration": 62,
    "start_time": "2025-03-31T18:37:14.402Z"
   },
   {
    "duration": 2375,
    "start_time": "2025-03-31T18:37:22.376Z"
   },
   {
    "duration": 69,
    "start_time": "2025-03-31T18:37:37.866Z"
   },
   {
    "duration": 9,
    "start_time": "2025-03-31T18:42:53.418Z"
   },
   {
    "duration": 44,
    "start_time": "2025-03-31T18:43:00.507Z"
   },
   {
    "duration": 623,
    "start_time": "2025-03-31T18:43:26.715Z"
   },
   {
    "duration": 38,
    "start_time": "2025-03-31T18:43:27.340Z"
   },
   {
    "duration": 101,
    "start_time": "2025-03-31T18:43:27.382Z"
   },
   {
    "duration": 137,
    "start_time": "2025-03-31T18:43:27.487Z"
   },
   {
    "duration": 145,
    "start_time": "2025-03-31T18:43:27.625Z"
   },
   {
    "duration": 106,
    "start_time": "2025-03-31T18:43:27.773Z"
   },
   {
    "duration": 43,
    "start_time": "2025-03-31T18:43:27.881Z"
   },
   {
    "duration": 8,
    "start_time": "2025-03-31T18:43:27.926Z"
   },
   {
    "duration": 100,
    "start_time": "2025-03-31T18:43:27.936Z"
   },
   {
    "duration": 2318,
    "start_time": "2025-03-31T18:43:28.038Z"
   },
   {
    "duration": 10,
    "start_time": "2025-03-31T18:43:30.357Z"
   },
   {
    "duration": 189,
    "start_time": "2025-03-31T18:43:30.368Z"
   },
   {
    "duration": 0,
    "start_time": "2025-03-31T18:43:30.559Z"
   },
   {
    "duration": 357,
    "start_time": "2025-03-31T18:43:51.578Z"
   },
   {
    "duration": 16,
    "start_time": "2025-03-31T18:46:20.689Z"
   },
   {
    "duration": 15,
    "start_time": "2025-03-31T18:46:25.757Z"
   },
   {
    "duration": 15,
    "start_time": "2025-03-31T18:46:32.615Z"
   },
   {
    "duration": 32,
    "start_time": "2025-03-31T18:46:48.909Z"
   },
   {
    "duration": 45,
    "start_time": "2025-03-31T18:47:32.632Z"
   },
   {
    "duration": 36,
    "start_time": "2025-03-31T18:51:50.074Z"
   },
   {
    "duration": 36,
    "start_time": "2025-03-31T18:52:06.171Z"
   },
   {
    "duration": 389,
    "start_time": "2025-03-31T18:52:39.249Z"
   },
   {
    "duration": 667,
    "start_time": "2025-03-31T18:52:47.334Z"
   },
   {
    "duration": 48,
    "start_time": "2025-03-31T18:52:48.003Z"
   },
   {
    "duration": 109,
    "start_time": "2025-03-31T18:52:48.053Z"
   },
   {
    "duration": 137,
    "start_time": "2025-03-31T18:52:48.165Z"
   },
   {
    "duration": 144,
    "start_time": "2025-03-31T18:52:48.304Z"
   },
   {
    "duration": 104,
    "start_time": "2025-03-31T18:52:48.450Z"
   },
   {
    "duration": 34,
    "start_time": "2025-03-31T18:52:48.556Z"
   },
   {
    "duration": 7,
    "start_time": "2025-03-31T18:52:48.592Z"
   },
   {
    "duration": 88,
    "start_time": "2025-03-31T18:52:48.601Z"
   },
   {
    "duration": 2337,
    "start_time": "2025-03-31T18:52:48.692Z"
   },
   {
    "duration": 20,
    "start_time": "2025-03-31T18:52:51.031Z"
   },
   {
    "duration": 197,
    "start_time": "2025-03-31T18:52:51.053Z"
   },
   {
    "duration": 0,
    "start_time": "2025-03-31T18:52:51.252Z"
   },
   {
    "duration": 22,
    "start_time": "2025-03-31T18:53:21.595Z"
   },
   {
    "duration": 9,
    "start_time": "2025-03-31T18:54:02.740Z"
   },
   {
    "duration": 359,
    "start_time": "2025-03-31T18:54:07.687Z"
   },
   {
    "duration": 45,
    "start_time": "2025-03-31T18:54:22.142Z"
   },
   {
    "duration": 44,
    "start_time": "2025-03-31T18:54:31.906Z"
   },
   {
    "duration": 43,
    "start_time": "2025-03-31T18:54:44.550Z"
   },
   {
    "duration": 687,
    "start_time": "2025-03-31T18:55:21.649Z"
   },
   {
    "duration": 39,
    "start_time": "2025-03-31T18:55:22.339Z"
   },
   {
    "duration": 107,
    "start_time": "2025-03-31T18:55:22.380Z"
   },
   {
    "duration": 129,
    "start_time": "2025-03-31T18:55:22.489Z"
   },
   {
    "duration": 142,
    "start_time": "2025-03-31T18:55:22.620Z"
   },
   {
    "duration": 110,
    "start_time": "2025-03-31T18:55:22.764Z"
   },
   {
    "duration": 35,
    "start_time": "2025-03-31T18:55:22.876Z"
   },
   {
    "duration": 17,
    "start_time": "2025-03-31T18:55:22.912Z"
   },
   {
    "duration": 74,
    "start_time": "2025-03-31T18:55:22.931Z"
   },
   {
    "duration": 2142,
    "start_time": "2025-03-31T18:55:23.007Z"
   },
   {
    "duration": 10,
    "start_time": "2025-03-31T18:55:25.151Z"
   },
   {
    "duration": 238,
    "start_time": "2025-03-31T18:55:25.164Z"
   },
   {
    "duration": 0,
    "start_time": "2025-03-31T18:55:25.404Z"
   },
   {
    "duration": 10,
    "start_time": "2025-03-31T18:55:35.134Z"
   },
   {
    "duration": 10,
    "start_time": "2025-03-31T18:55:42.631Z"
   },
   {
    "duration": 9,
    "start_time": "2025-03-31T18:55:49.128Z"
   },
   {
    "duration": 335,
    "start_time": "2025-03-31T18:55:55.678Z"
   },
   {
    "duration": 44,
    "start_time": "2025-03-31T18:56:11.362Z"
   },
   {
    "duration": 45,
    "start_time": "2025-03-31T18:56:24.104Z"
   },
   {
    "duration": 43,
    "start_time": "2025-03-31T18:56:46.110Z"
   },
   {
    "duration": 44,
    "start_time": "2025-03-31T18:57:01.637Z"
   },
   {
    "duration": 46,
    "start_time": "2025-03-31T18:57:29.882Z"
   },
   {
    "duration": 54,
    "start_time": "2025-03-31T18:58:28.885Z"
   },
   {
    "duration": 650,
    "start_time": "2025-03-31T18:59:11.020Z"
   },
   {
    "duration": 50,
    "start_time": "2025-03-31T18:59:11.673Z"
   },
   {
    "duration": 102,
    "start_time": "2025-03-31T18:59:11.725Z"
   },
   {
    "duration": 135,
    "start_time": "2025-03-31T18:59:11.830Z"
   },
   {
    "duration": 145,
    "start_time": "2025-03-31T18:59:11.967Z"
   },
   {
    "duration": 99,
    "start_time": "2025-03-31T18:59:12.114Z"
   },
   {
    "duration": 34,
    "start_time": "2025-03-31T18:59:12.223Z"
   },
   {
    "duration": 7,
    "start_time": "2025-03-31T18:59:12.259Z"
   },
   {
    "duration": 93,
    "start_time": "2025-03-31T18:59:12.267Z"
   },
   {
    "duration": 2263,
    "start_time": "2025-03-31T18:59:12.363Z"
   },
   {
    "duration": 17,
    "start_time": "2025-03-31T18:59:14.628Z"
   },
   {
    "duration": 202,
    "start_time": "2025-03-31T18:59:14.647Z"
   },
   {
    "duration": 0,
    "start_time": "2025-03-31T18:59:14.851Z"
   },
   {
    "duration": 16,
    "start_time": "2025-03-31T18:59:44.105Z"
   },
   {
    "duration": 372,
    "start_time": "2025-03-31T18:59:55.251Z"
   },
   {
    "duration": 53,
    "start_time": "2025-03-31T19:00:12.708Z"
   },
   {
    "duration": 657,
    "start_time": "2025-03-31T19:00:20.349Z"
   },
   {
    "duration": 40,
    "start_time": "2025-03-31T19:00:21.008Z"
   },
   {
    "duration": 104,
    "start_time": "2025-03-31T19:00:21.050Z"
   },
   {
    "duration": 135,
    "start_time": "2025-03-31T19:00:21.156Z"
   },
   {
    "duration": 161,
    "start_time": "2025-03-31T19:00:21.294Z"
   },
   {
    "duration": 100,
    "start_time": "2025-03-31T19:00:21.457Z"
   },
   {
    "duration": 33,
    "start_time": "2025-03-31T19:00:21.560Z"
   },
   {
    "duration": 8,
    "start_time": "2025-03-31T19:00:21.596Z"
   },
   {
    "duration": 72,
    "start_time": "2025-03-31T19:00:21.624Z"
   },
   {
    "duration": 2226,
    "start_time": "2025-03-31T19:00:21.698Z"
   },
   {
    "duration": 23,
    "start_time": "2025-03-31T19:00:23.926Z"
   },
   {
    "duration": 190,
    "start_time": "2025-03-31T19:00:23.950Z"
   },
   {
    "duration": 0,
    "start_time": "2025-03-31T19:00:24.142Z"
   },
   {
    "duration": 77,
    "start_time": "2025-03-31T19:02:43.328Z"
   },
   {
    "duration": 82,
    "start_time": "2025-03-31T19:03:18.612Z"
   },
   {
    "duration": 122,
    "start_time": "2025-03-31T19:03:42.798Z"
   },
   {
    "duration": 2,
    "start_time": "2025-03-31T19:11:29.086Z"
   },
   {
    "duration": 70,
    "start_time": "2025-03-31T19:12:52.580Z"
   },
   {
    "duration": 69,
    "start_time": "2025-03-31T19:14:03.978Z"
   },
   {
    "duration": 65,
    "start_time": "2025-03-31T19:14:23.110Z"
   },
   {
    "duration": 118,
    "start_time": "2025-03-31T19:23:23.582Z"
   },
   {
    "duration": 2228,
    "start_time": "2025-03-31T19:26:22.912Z"
   },
   {
    "duration": 128,
    "start_time": "2025-03-31T19:26:35.167Z"
   },
   {
    "duration": 15,
    "start_time": "2025-03-31T19:28:14.501Z"
   },
   {
    "duration": 166,
    "start_time": "2025-03-31T19:28:43.098Z"
   },
   {
    "duration": 124,
    "start_time": "2025-03-31T19:28:59.809Z"
   },
   {
    "duration": 78,
    "start_time": "2025-03-31T19:29:22.127Z"
   },
   {
    "duration": 480,
    "start_time": "2025-03-31T19:33:48.040Z"
   },
   {
    "duration": 69,
    "start_time": "2025-03-31T19:34:11.740Z"
   },
   {
    "duration": 70,
    "start_time": "2025-03-31T19:34:35.624Z"
   },
   {
    "duration": 261,
    "start_time": "2025-03-31T19:42:49.765Z"
   },
   {
    "duration": 747,
    "start_time": "2025-03-31T22:32:08.427Z"
   },
   {
    "duration": 39,
    "start_time": "2025-03-31T22:32:09.175Z"
   },
   {
    "duration": 125,
    "start_time": "2025-03-31T22:32:09.216Z"
   },
   {
    "duration": 144,
    "start_time": "2025-03-31T22:32:09.345Z"
   },
   {
    "duration": 170,
    "start_time": "2025-03-31T22:32:09.490Z"
   },
   {
    "duration": 105,
    "start_time": "2025-03-31T22:32:09.661Z"
   },
   {
    "duration": 35,
    "start_time": "2025-03-31T22:32:09.769Z"
   },
   {
    "duration": 8,
    "start_time": "2025-03-31T22:32:09.807Z"
   },
   {
    "duration": 85,
    "start_time": "2025-03-31T22:32:09.816Z"
   },
   {
    "duration": 2629,
    "start_time": "2025-03-31T22:32:09.904Z"
   },
   {
    "duration": 130,
    "start_time": "2025-03-31T22:32:12.536Z"
   },
   {
    "duration": 134,
    "start_time": "2025-03-31T22:32:12.667Z"
   },
   {
    "duration": 9,
    "start_time": "2025-03-31T22:32:12.803Z"
   },
   {
    "duration": 2,
    "start_time": "2025-03-31T22:47:14.620Z"
   },
   {
    "duration": 77,
    "start_time": "2025-03-31T22:53:19.938Z"
   },
   {
    "duration": 181,
    "start_time": "2025-03-31T22:58:21.125Z"
   },
   {
    "duration": 924,
    "start_time": "2025-03-31T22:58:44.514Z"
   },
   {
    "duration": 1018,
    "start_time": "2025-03-31T22:59:21.877Z"
   },
   {
    "duration": 4,
    "start_time": "2025-03-31T22:59:29.963Z"
   },
   {
    "duration": 863,
    "start_time": "2025-03-31T22:59:37.138Z"
   },
   {
    "duration": 63,
    "start_time": "2025-03-31T23:07:23.517Z"
   },
   {
    "duration": 33,
    "start_time": "2025-03-31T23:07:45.537Z"
   },
   {
    "duration": 402,
    "start_time": "2025-03-31T23:08:15.348Z"
   },
   {
    "duration": 502,
    "start_time": "2025-03-31T23:08:32.258Z"
   },
   {
    "duration": 17,
    "start_time": "2025-03-31T23:16:15.879Z"
   },
   {
    "duration": 448,
    "start_time": "2025-03-31T23:16:27.643Z"
   },
   {
    "duration": 59,
    "start_time": "2025-03-31T23:18:42.737Z"
   },
   {
    "duration": 9,
    "start_time": "2025-03-31T23:22:34.860Z"
   },
   {
    "duration": 338,
    "start_time": "2025-03-31T23:23:49.519Z"
   },
   {
    "duration": 446,
    "start_time": "2025-03-31T23:24:10.364Z"
   },
   {
    "duration": 284,
    "start_time": "2025-03-31T23:27:15.431Z"
   },
   {
    "duration": 328,
    "start_time": "2025-03-31T23:27:39.504Z"
   },
   {
    "duration": 692,
    "start_time": "2025-03-31T23:27:45.984Z"
   },
   {
    "duration": 44,
    "start_time": "2025-03-31T23:27:46.678Z"
   },
   {
    "duration": 109,
    "start_time": "2025-03-31T23:27:46.724Z"
   },
   {
    "duration": 124,
    "start_time": "2025-03-31T23:27:46.835Z"
   },
   {
    "duration": 140,
    "start_time": "2025-03-31T23:27:46.963Z"
   },
   {
    "duration": 103,
    "start_time": "2025-03-31T23:27:47.105Z"
   },
   {
    "duration": 42,
    "start_time": "2025-03-31T23:27:47.209Z"
   },
   {
    "duration": 9,
    "start_time": "2025-03-31T23:27:47.253Z"
   },
   {
    "duration": 87,
    "start_time": "2025-03-31T23:27:47.265Z"
   },
   {
    "duration": 2550,
    "start_time": "2025-03-31T23:27:47.354Z"
   },
   {
    "duration": 9,
    "start_time": "2025-03-31T23:27:49.905Z"
   },
   {
    "duration": 379,
    "start_time": "2025-03-31T23:27:49.931Z"
   },
   {
    "duration": 2,
    "start_time": "2025-03-31T23:27:50.312Z"
   },
   {
    "duration": 190,
    "start_time": "2025-03-31T23:27:50.316Z"
   },
   {
    "duration": 0,
    "start_time": "2025-03-31T23:27:50.508Z"
   },
   {
    "duration": 12,
    "start_time": "2025-03-31T23:51:42.089Z"
   },
   {
    "duration": 687,
    "start_time": "2025-03-31T23:52:00.852Z"
   },
   {
    "duration": 38,
    "start_time": "2025-03-31T23:52:01.542Z"
   },
   {
    "duration": 106,
    "start_time": "2025-03-31T23:52:01.582Z"
   },
   {
    "duration": 141,
    "start_time": "2025-03-31T23:52:01.690Z"
   },
   {
    "duration": 147,
    "start_time": "2025-03-31T23:52:01.833Z"
   },
   {
    "duration": 103,
    "start_time": "2025-03-31T23:52:01.982Z"
   },
   {
    "duration": 34,
    "start_time": "2025-03-31T23:52:02.087Z"
   },
   {
    "duration": 8,
    "start_time": "2025-03-31T23:52:02.131Z"
   },
   {
    "duration": 70,
    "start_time": "2025-03-31T23:52:02.141Z"
   },
   {
    "duration": 2314,
    "start_time": "2025-03-31T23:52:02.213Z"
   },
   {
    "duration": 9,
    "start_time": "2025-03-31T23:52:04.531Z"
   },
   {
    "duration": 351,
    "start_time": "2025-03-31T23:52:04.542Z"
   },
   {
    "duration": 178,
    "start_time": "2025-03-31T23:52:04.896Z"
   },
   {
    "duration": 0,
    "start_time": "2025-03-31T23:52:05.076Z"
   },
   {
    "duration": 0,
    "start_time": "2025-03-31T23:52:05.077Z"
   },
   {
    "duration": 58,
    "start_time": "2025-03-31T23:52:36.272Z"
   },
   {
    "duration": 99,
    "start_time": "2025-03-31T23:52:42.939Z"
   },
   {
    "duration": 60,
    "start_time": "2025-03-31T23:52:46.496Z"
   },
   {
    "duration": 427,
    "start_time": "2025-03-31T23:52:50.139Z"
   },
   {
    "duration": 33,
    "start_time": "2025-03-31T23:53:05.657Z"
   },
   {
    "duration": 19,
    "start_time": "2025-03-31T23:57:08.985Z"
   },
   {
    "duration": 32,
    "start_time": "2025-03-31T23:57:27.528Z"
   },
   {
    "duration": 406,
    "start_time": "2025-03-31T23:57:57.286Z"
   },
   {
    "duration": 314,
    "start_time": "2025-03-31T23:58:24.509Z"
   },
   {
    "duration": 58,
    "start_time": "2025-04-01T00:02:02.087Z"
   },
   {
    "duration": 82,
    "start_time": "2025-04-01T00:08:36.104Z"
   },
   {
    "duration": 79,
    "start_time": "2025-04-01T00:10:06.712Z"
   },
   {
    "duration": 71,
    "start_time": "2025-04-01T00:12:26.999Z"
   },
   {
    "duration": 80,
    "start_time": "2025-04-01T00:12:59.666Z"
   },
   {
    "duration": 93,
    "start_time": "2025-04-01T00:13:08.715Z"
   },
   {
    "duration": 65,
    "start_time": "2025-04-01T00:13:41.561Z"
   },
   {
    "duration": 665,
    "start_time": "2025-04-01T00:13:59.148Z"
   },
   {
    "duration": 38,
    "start_time": "2025-04-01T00:13:59.815Z"
   },
   {
    "duration": 102,
    "start_time": "2025-04-01T00:13:59.855Z"
   },
   {
    "duration": 129,
    "start_time": "2025-04-01T00:13:59.959Z"
   },
   {
    "duration": 148,
    "start_time": "2025-04-01T00:14:00.089Z"
   },
   {
    "duration": 102,
    "start_time": "2025-04-01T00:14:00.239Z"
   },
   {
    "duration": 34,
    "start_time": "2025-04-01T00:14:00.343Z"
   },
   {
    "duration": 7,
    "start_time": "2025-04-01T00:14:00.378Z"
   },
   {
    "duration": 93,
    "start_time": "2025-04-01T00:14:00.386Z"
   },
   {
    "duration": 2596,
    "start_time": "2025-04-01T00:14:00.483Z"
   },
   {
    "duration": 88,
    "start_time": "2025-04-01T00:14:03.081Z"
   },
   {
    "duration": 356,
    "start_time": "2025-04-01T00:14:03.170Z"
   },
   {
    "duration": 105,
    "start_time": "2025-04-01T00:14:03.532Z"
   },
   {
    "duration": 62,
    "start_time": "2025-04-01T00:14:03.639Z"
   },
   {
    "duration": 439,
    "start_time": "2025-04-01T00:14:03.703Z"
   },
   {
    "duration": 37,
    "start_time": "2025-04-01T00:19:12.440Z"
   },
   {
    "duration": 26,
    "start_time": "2025-04-01T00:19:33.950Z"
   },
   {
    "duration": 39,
    "start_time": "2025-04-01T00:20:18.591Z"
   },
   {
    "duration": 26,
    "start_time": "2025-04-01T00:20:55.897Z"
   },
   {
    "duration": 501,
    "start_time": "2025-04-01T01:57:54.246Z"
   },
   {
    "duration": 643,
    "start_time": "2025-04-01T01:58:02.629Z"
   },
   {
    "duration": 39,
    "start_time": "2025-04-01T01:58:03.275Z"
   },
   {
    "duration": 98,
    "start_time": "2025-04-01T01:58:03.316Z"
   },
   {
    "duration": 148,
    "start_time": "2025-04-01T01:58:03.415Z"
   },
   {
    "duration": 151,
    "start_time": "2025-04-01T01:58:03.565Z"
   },
   {
    "duration": 100,
    "start_time": "2025-04-01T01:58:03.718Z"
   },
   {
    "duration": 39,
    "start_time": "2025-04-01T01:58:03.820Z"
   },
   {
    "duration": 8,
    "start_time": "2025-04-01T01:58:03.860Z"
   },
   {
    "duration": 89,
    "start_time": "2025-04-01T01:58:03.869Z"
   },
   {
    "duration": 2252,
    "start_time": "2025-04-01T01:58:03.960Z"
   },
   {
    "duration": 40,
    "start_time": "2025-04-01T01:58:06.214Z"
   },
   {
    "duration": 364,
    "start_time": "2025-04-01T01:58:06.256Z"
   },
   {
    "duration": 145,
    "start_time": "2025-04-01T01:58:06.621Z"
   },
   {
    "duration": 82,
    "start_time": "2025-04-01T01:58:06.770Z"
   },
   {
    "duration": 435,
    "start_time": "2025-04-01T01:58:06.854Z"
   },
   {
    "duration": 50,
    "start_time": "2025-04-01T02:04:46.552Z"
   },
   {
    "duration": 52,
    "start_time": "2025-04-01T02:05:03.764Z"
   },
   {
    "duration": 61,
    "start_time": "2025-04-01T02:05:43.292Z"
   },
   {
    "duration": 85,
    "start_time": "2025-04-01T02:07:22.080Z"
   },
   {
    "duration": 11,
    "start_time": "2025-04-01T02:08:51.216Z"
   },
   {
    "duration": 11,
    "start_time": "2025-04-01T02:09:08.044Z"
   },
   {
    "duration": 713,
    "start_time": "2025-04-01T21:43:24.365Z"
   },
   {
    "duration": 37,
    "start_time": "2025-04-01T21:43:25.080Z"
   },
   {
    "duration": 120,
    "start_time": "2025-04-01T21:43:25.119Z"
   },
   {
    "duration": 139,
    "start_time": "2025-04-01T21:43:25.241Z"
   },
   {
    "duration": 148,
    "start_time": "2025-04-01T21:43:25.383Z"
   },
   {
    "duration": 97,
    "start_time": "2025-04-01T21:43:25.533Z"
   },
   {
    "duration": 34,
    "start_time": "2025-04-01T21:43:25.631Z"
   },
   {
    "duration": 9,
    "start_time": "2025-04-01T21:43:25.667Z"
   },
   {
    "duration": 89,
    "start_time": "2025-04-01T21:43:25.678Z"
   },
   {
    "duration": 2212,
    "start_time": "2025-04-01T21:43:25.769Z"
   },
   {
    "duration": 73,
    "start_time": "2025-04-01T21:43:27.983Z"
   },
   {
    "duration": 91,
    "start_time": "2025-04-01T21:43:28.057Z"
   },
   {
    "duration": 0,
    "start_time": "2025-04-01T21:43:28.150Z"
   },
   {
    "duration": 0,
    "start_time": "2025-04-01T21:43:28.151Z"
   },
   {
    "duration": 0,
    "start_time": "2025-04-01T21:43:28.153Z"
   },
   {
    "duration": 0,
    "start_time": "2025-04-01T21:43:28.154Z"
   },
   {
    "duration": 0,
    "start_time": "2025-04-01T21:43:28.155Z"
   },
   {
    "duration": 220,
    "start_time": "2025-04-01T22:22:00.747Z"
   },
   {
    "duration": 57,
    "start_time": "2025-04-01T22:22:36.603Z"
   },
   {
    "duration": 353,
    "start_time": "2025-04-01T22:23:00.951Z"
   },
   {
    "duration": 661,
    "start_time": "2025-04-01T22:23:27.649Z"
   },
   {
    "duration": 38,
    "start_time": "2025-04-01T22:23:28.312Z"
   },
   {
    "duration": 102,
    "start_time": "2025-04-01T22:23:28.352Z"
   },
   {
    "duration": 138,
    "start_time": "2025-04-01T22:23:28.455Z"
   },
   {
    "duration": 138,
    "start_time": "2025-04-01T22:23:28.597Z"
   },
   {
    "duration": 103,
    "start_time": "2025-04-01T22:23:28.737Z"
   },
   {
    "duration": 34,
    "start_time": "2025-04-01T22:23:28.842Z"
   },
   {
    "duration": 7,
    "start_time": "2025-04-01T22:23:28.878Z"
   },
   {
    "duration": 91,
    "start_time": "2025-04-01T22:23:28.887Z"
   },
   {
    "duration": 2467,
    "start_time": "2025-04-01T22:23:28.979Z"
   },
   {
    "duration": 55,
    "start_time": "2025-04-01T22:23:31.448Z"
   },
   {
    "duration": 54,
    "start_time": "2025-04-01T22:23:31.504Z"
   },
   {
    "duration": 24,
    "start_time": "2025-04-01T22:23:31.559Z"
   },
   {
    "duration": 349,
    "start_time": "2025-04-01T22:23:31.586Z"
   },
   {
    "duration": 522,
    "start_time": "2025-04-01T22:23:31.937Z"
   },
   {
    "duration": 0,
    "start_time": "2025-04-01T22:23:32.461Z"
   },
   {
    "duration": 0,
    "start_time": "2025-04-01T22:23:32.462Z"
   },
   {
    "duration": 417,
    "start_time": "2025-04-01T22:23:42.708Z"
   },
   {
    "duration": 33,
    "start_time": "2025-04-01T22:24:12.056Z"
   },
   {
    "duration": 751,
    "start_time": "2025-04-01T22:24:26.100Z"
   },
   {
    "duration": 40,
    "start_time": "2025-04-01T22:24:26.854Z"
   },
   {
    "duration": 111,
    "start_time": "2025-04-01T22:24:26.896Z"
   },
   {
    "duration": 140,
    "start_time": "2025-04-01T22:24:27.009Z"
   },
   {
    "duration": 174,
    "start_time": "2025-04-01T22:24:27.151Z"
   },
   {
    "duration": 115,
    "start_time": "2025-04-01T22:24:27.327Z"
   },
   {
    "duration": 39,
    "start_time": "2025-04-01T22:24:27.444Z"
   },
   {
    "duration": 9,
    "start_time": "2025-04-01T22:24:27.485Z"
   },
   {
    "duration": 95,
    "start_time": "2025-04-01T22:24:27.496Z"
   },
   {
    "duration": 2877,
    "start_time": "2025-04-01T22:24:27.594Z"
   },
   {
    "duration": 59,
    "start_time": "2025-04-01T22:24:30.473Z"
   },
   {
    "duration": 93,
    "start_time": "2025-04-01T22:24:30.533Z"
   },
   {
    "duration": 0,
    "start_time": "2025-04-01T22:24:30.628Z"
   },
   {
    "duration": 0,
    "start_time": "2025-04-01T22:24:30.629Z"
   },
   {
    "duration": 0,
    "start_time": "2025-04-01T22:24:30.630Z"
   },
   {
    "duration": 0,
    "start_time": "2025-04-01T22:24:30.632Z"
   },
   {
    "duration": 0,
    "start_time": "2025-04-01T22:24:30.633Z"
   },
   {
    "duration": 438,
    "start_time": "2025-04-01T22:24:43.227Z"
   },
   {
    "duration": 11,
    "start_time": "2025-04-01T22:26:42.350Z"
   },
   {
    "duration": 31,
    "start_time": "2025-04-01T22:27:28.672Z"
   },
   {
    "duration": 669,
    "start_time": "2025-04-01T22:27:39.726Z"
   },
   {
    "duration": 44,
    "start_time": "2025-04-01T22:27:40.397Z"
   },
   {
    "duration": 109,
    "start_time": "2025-04-01T22:27:40.444Z"
   },
   {
    "duration": 143,
    "start_time": "2025-04-01T22:27:40.557Z"
   },
   {
    "duration": 152,
    "start_time": "2025-04-01T22:27:40.701Z"
   },
   {
    "duration": 105,
    "start_time": "2025-04-01T22:27:40.855Z"
   },
   {
    "duration": 37,
    "start_time": "2025-04-01T22:27:40.961Z"
   },
   {
    "duration": 8,
    "start_time": "2025-04-01T22:27:41.000Z"
   },
   {
    "duration": 71,
    "start_time": "2025-04-01T22:27:41.025Z"
   },
   {
    "duration": 2330,
    "start_time": "2025-04-01T22:27:41.099Z"
   },
   {
    "duration": 10,
    "start_time": "2025-04-01T22:27:43.431Z"
   },
   {
    "duration": 57,
    "start_time": "2025-04-01T22:27:43.442Z"
   },
   {
    "duration": 105,
    "start_time": "2025-04-01T22:27:43.500Z"
   },
   {
    "duration": 0,
    "start_time": "2025-04-01T22:27:43.607Z"
   },
   {
    "duration": 0,
    "start_time": "2025-04-01T22:27:43.608Z"
   },
   {
    "duration": 0,
    "start_time": "2025-04-01T22:27:43.610Z"
   },
   {
    "duration": 0,
    "start_time": "2025-04-01T22:27:43.623Z"
   },
   {
    "duration": 0,
    "start_time": "2025-04-01T22:27:43.624Z"
   },
   {
    "duration": 2486,
    "start_time": "2025-04-01T22:27:50.253Z"
   },
   {
    "duration": 2464,
    "start_time": "2025-04-01T22:27:57.338Z"
   },
   {
    "duration": 48,
    "start_time": "2025-04-01T22:28:10.585Z"
   },
   {
    "duration": 46,
    "start_time": "2025-04-01T22:32:39.030Z"
   },
   {
    "duration": 39,
    "start_time": "2025-04-01T22:36:11.915Z"
   },
   {
    "duration": 100,
    "start_time": "2025-04-01T22:42:57.651Z"
   },
   {
    "duration": 103,
    "start_time": "2025-04-01T22:44:15.735Z"
   },
   {
    "duration": 101,
    "start_time": "2025-04-01T22:47:17.570Z"
   },
   {
    "duration": 30,
    "start_time": "2025-04-01T22:48:44.098Z"
   },
   {
    "duration": 104,
    "start_time": "2025-04-01T22:48:54.556Z"
   },
   {
    "duration": 744,
    "start_time": "2025-04-01T22:49:00.160Z"
   },
   {
    "duration": 47,
    "start_time": "2025-04-01T22:49:00.906Z"
   },
   {
    "duration": 111,
    "start_time": "2025-04-01T22:49:00.955Z"
   },
   {
    "duration": 158,
    "start_time": "2025-04-01T22:49:01.068Z"
   },
   {
    "duration": 158,
    "start_time": "2025-04-01T22:49:01.228Z"
   },
   {
    "duration": 113,
    "start_time": "2025-04-01T22:49:01.388Z"
   },
   {
    "duration": 40,
    "start_time": "2025-04-01T22:49:01.503Z"
   },
   {
    "duration": 8,
    "start_time": "2025-04-01T22:49:01.545Z"
   },
   {
    "duration": 95,
    "start_time": "2025-04-01T22:49:01.555Z"
   },
   {
    "duration": 22,
    "start_time": "2025-04-01T22:49:01.652Z"
   },
   {
    "duration": 119,
    "start_time": "2025-04-01T22:49:01.675Z"
   },
   {
    "duration": 608,
    "start_time": "2025-04-01T22:49:01.796Z"
   },
   {
    "duration": 0,
    "start_time": "2025-04-01T22:49:02.405Z"
   },
   {
    "duration": 0,
    "start_time": "2025-04-01T22:49:02.406Z"
   },
   {
    "duration": 20,
    "start_time": "2025-04-01T22:49:27.793Z"
   },
   {
    "duration": 5,
    "start_time": "2025-04-01T22:50:55.137Z"
   },
   {
    "duration": 96,
    "start_time": "2025-04-01T22:51:16.595Z"
   },
   {
    "duration": 9,
    "start_time": "2025-04-01T22:51:42.132Z"
   },
   {
    "duration": 92,
    "start_time": "2025-04-01T22:51:50.059Z"
   },
   {
    "duration": 208,
    "start_time": "2025-04-01T22:54:13.011Z"
   },
   {
    "duration": 156,
    "start_time": "2025-04-01T22:54:30.374Z"
   },
   {
    "duration": 159,
    "start_time": "2025-04-01T23:00:10.666Z"
   },
   {
    "duration": 2778,
    "start_time": "2025-04-01T23:00:27.678Z"
   },
   {
    "duration": 40,
    "start_time": "2025-04-01T23:00:30.459Z"
   },
   {
    "duration": 133,
    "start_time": "2025-04-01T23:00:30.503Z"
   },
   {
    "duration": 131,
    "start_time": "2025-04-01T23:00:30.641Z"
   },
   {
    "duration": 172,
    "start_time": "2025-04-01T23:00:30.774Z"
   },
   {
    "duration": 124,
    "start_time": "2025-04-01T23:00:30.948Z"
   },
   {
    "duration": 59,
    "start_time": "2025-04-01T23:00:31.074Z"
   },
   {
    "duration": 8,
    "start_time": "2025-04-01T23:00:31.135Z"
   },
   {
    "duration": 105,
    "start_time": "2025-04-01T23:00:31.144Z"
   },
   {
    "duration": 22,
    "start_time": "2025-04-01T23:00:31.251Z"
   },
   {
    "duration": 112,
    "start_time": "2025-04-01T23:00:31.275Z"
   },
   {
    "duration": 207,
    "start_time": "2025-04-01T23:00:31.389Z"
   },
   {
    "duration": 5,
    "start_time": "2025-04-01T23:00:31.599Z"
   },
   {
    "duration": 191,
    "start_time": "2025-04-01T23:01:18.582Z"
   },
   {
    "duration": 161,
    "start_time": "2025-04-01T23:02:10.193Z"
   },
   {
    "duration": 211,
    "start_time": "2025-04-01T23:02:21.611Z"
   },
   {
    "duration": 163,
    "start_time": "2025-04-01T23:02:37.773Z"
   },
   {
    "duration": 458,
    "start_time": "2025-04-01T23:03:14.205Z"
   },
   {
    "duration": 191,
    "start_time": "2025-04-01T23:19:14.246Z"
   },
   {
    "duration": 1300,
    "start_time": "2025-04-01T23:19:19.931Z"
   },
   {
    "duration": 41,
    "start_time": "2025-04-01T23:19:21.233Z"
   },
   {
    "duration": 109,
    "start_time": "2025-04-01T23:19:21.276Z"
   },
   {
    "duration": 133,
    "start_time": "2025-04-01T23:19:21.386Z"
   },
   {
    "duration": 158,
    "start_time": "2025-04-01T23:19:21.525Z"
   },
   {
    "duration": 110,
    "start_time": "2025-04-01T23:19:21.684Z"
   },
   {
    "duration": 39,
    "start_time": "2025-04-01T23:19:21.796Z"
   },
   {
    "duration": 9,
    "start_time": "2025-04-01T23:19:21.836Z"
   },
   {
    "duration": 103,
    "start_time": "2025-04-01T23:19:21.847Z"
   },
   {
    "duration": 23,
    "start_time": "2025-04-01T23:19:21.952Z"
   },
   {
    "duration": 107,
    "start_time": "2025-04-01T23:19:21.977Z"
   },
   {
    "duration": 240,
    "start_time": "2025-04-01T23:19:22.086Z"
   },
   {
    "duration": 437,
    "start_time": "2025-04-01T23:19:22.328Z"
   },
   {
    "duration": 101,
    "start_time": "2025-04-01T23:19:22.768Z"
   },
   {
    "duration": 2,
    "start_time": "2025-04-01T23:19:48.301Z"
   }
  ],
  "kernelspec": {
   "display_name": "Python 3 (ipykernel)",
   "language": "python",
   "name": "python3"
  },
  "language_info": {
   "codemirror_mode": {
    "name": "ipython",
    "version": 3
   },
   "file_extension": ".py",
   "mimetype": "text/x-python",
   "name": "python",
   "nbconvert_exporter": "python",
   "pygments_lexer": "ipython3",
   "version": "3.9.23"
  },
  "toc": {
   "base_numbering": 1,
   "nav_menu": {},
   "number_sections": true,
   "sideBar": true,
   "skip_h1_title": true,
   "title_cell": "Table of Contents",
   "title_sidebar": "Contents",
   "toc_cell": false,
   "toc_position": {},
   "toc_section_display": true,
   "toc_window_display": false
  }
 },
 "nbformat": 4,
 "nbformat_minor": 4
}
